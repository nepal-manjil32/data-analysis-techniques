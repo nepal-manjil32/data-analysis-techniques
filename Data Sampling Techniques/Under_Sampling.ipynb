{
  "nbformat": 4,
  "nbformat_minor": 0,
  "metadata": {
    "colab": {
      "provenance": [],
      "collapsed_sections": [
        "x6IWEo_-Fcz7",
        "F93MJgNwFjcA",
        "dRQWFBkJF9i8",
        "LPcplds6Fsrk",
        "Pme-IJUeJFB5",
        "M7wNCpRol038"
      ]
    },
    "kernelspec": {
      "name": "python3",
      "display_name": "Python 3"
    },
    "language_info": {
      "name": "python"
    }
  },
  "cells": [
    {
      "cell_type": "markdown",
      "source": [
        "#### Importing Necessary Libraries\n"
      ],
      "metadata": {
        "id": "x6IWEo_-Fcz7"
      }
    },
    {
      "cell_type": "code",
      "execution_count": 1,
      "metadata": {
        "id": "wq9rsCOLFVnI"
      },
      "outputs": [],
      "source": [
        "import numpy as np\n",
        "import pandas as pd\n",
        "import random\n",
        "import statistics as st"
      ]
    },
    {
      "cell_type": "markdown",
      "source": [
        "#### Importing Dataset\n"
      ],
      "metadata": {
        "id": "F93MJgNwFjcA"
      }
    },
    {
      "cell_type": "code",
      "source": [
        "from google.colab import files\n",
        "uploaded = files.upload()"
      ],
      "metadata": {
        "colab": {
          "base_uri": "https://localhost:8080/",
          "height": 74
        },
        "id": "4XKkCCommvvl",
        "outputId": "ce193333-bb3e-4c6c-c379-dc3d2ef669d4"
      },
      "execution_count": 2,
      "outputs": [
        {
          "output_type": "display_data",
          "data": {
            "text/plain": [
              "<IPython.core.display.HTML object>"
            ],
            "text/html": [
              "\n",
              "     <input type=\"file\" id=\"files-4149bc18-7d2f-48db-a8fe-0c10b843220f\" name=\"files[]\" multiple disabled\n",
              "        style=\"border:none\" />\n",
              "     <output id=\"result-4149bc18-7d2f-48db-a8fe-0c10b843220f\">\n",
              "      Upload widget is only available when the cell has been executed in the\n",
              "      current browser session. Please rerun this cell to enable.\n",
              "      </output>\n",
              "      <script>// Copyright 2017 Google LLC\n",
              "//\n",
              "// Licensed under the Apache License, Version 2.0 (the \"License\");\n",
              "// you may not use this file except in compliance with the License.\n",
              "// You may obtain a copy of the License at\n",
              "//\n",
              "//      http://www.apache.org/licenses/LICENSE-2.0\n",
              "//\n",
              "// Unless required by applicable law or agreed to in writing, software\n",
              "// distributed under the License is distributed on an \"AS IS\" BASIS,\n",
              "// WITHOUT WARRANTIES OR CONDITIONS OF ANY KIND, either express or implied.\n",
              "// See the License for the specific language governing permissions and\n",
              "// limitations under the License.\n",
              "\n",
              "/**\n",
              " * @fileoverview Helpers for google.colab Python module.\n",
              " */\n",
              "(function(scope) {\n",
              "function span(text, styleAttributes = {}) {\n",
              "  const element = document.createElement('span');\n",
              "  element.textContent = text;\n",
              "  for (const key of Object.keys(styleAttributes)) {\n",
              "    element.style[key] = styleAttributes[key];\n",
              "  }\n",
              "  return element;\n",
              "}\n",
              "\n",
              "// Max number of bytes which will be uploaded at a time.\n",
              "const MAX_PAYLOAD_SIZE = 100 * 1024;\n",
              "\n",
              "function _uploadFiles(inputId, outputId) {\n",
              "  const steps = uploadFilesStep(inputId, outputId);\n",
              "  const outputElement = document.getElementById(outputId);\n",
              "  // Cache steps on the outputElement to make it available for the next call\n",
              "  // to uploadFilesContinue from Python.\n",
              "  outputElement.steps = steps;\n",
              "\n",
              "  return _uploadFilesContinue(outputId);\n",
              "}\n",
              "\n",
              "// This is roughly an async generator (not supported in the browser yet),\n",
              "// where there are multiple asynchronous steps and the Python side is going\n",
              "// to poll for completion of each step.\n",
              "// This uses a Promise to block the python side on completion of each step,\n",
              "// then passes the result of the previous step as the input to the next step.\n",
              "function _uploadFilesContinue(outputId) {\n",
              "  const outputElement = document.getElementById(outputId);\n",
              "  const steps = outputElement.steps;\n",
              "\n",
              "  const next = steps.next(outputElement.lastPromiseValue);\n",
              "  return Promise.resolve(next.value.promise).then((value) => {\n",
              "    // Cache the last promise value to make it available to the next\n",
              "    // step of the generator.\n",
              "    outputElement.lastPromiseValue = value;\n",
              "    return next.value.response;\n",
              "  });\n",
              "}\n",
              "\n",
              "/**\n",
              " * Generator function which is called between each async step of the upload\n",
              " * process.\n",
              " * @param {string} inputId Element ID of the input file picker element.\n",
              " * @param {string} outputId Element ID of the output display.\n",
              " * @return {!Iterable<!Object>} Iterable of next steps.\n",
              " */\n",
              "function* uploadFilesStep(inputId, outputId) {\n",
              "  const inputElement = document.getElementById(inputId);\n",
              "  inputElement.disabled = false;\n",
              "\n",
              "  const outputElement = document.getElementById(outputId);\n",
              "  outputElement.innerHTML = '';\n",
              "\n",
              "  const pickedPromise = new Promise((resolve) => {\n",
              "    inputElement.addEventListener('change', (e) => {\n",
              "      resolve(e.target.files);\n",
              "    });\n",
              "  });\n",
              "\n",
              "  const cancel = document.createElement('button');\n",
              "  inputElement.parentElement.appendChild(cancel);\n",
              "  cancel.textContent = 'Cancel upload';\n",
              "  const cancelPromise = new Promise((resolve) => {\n",
              "    cancel.onclick = () => {\n",
              "      resolve(null);\n",
              "    };\n",
              "  });\n",
              "\n",
              "  // Wait for the user to pick the files.\n",
              "  const files = yield {\n",
              "    promise: Promise.race([pickedPromise, cancelPromise]),\n",
              "    response: {\n",
              "      action: 'starting',\n",
              "    }\n",
              "  };\n",
              "\n",
              "  cancel.remove();\n",
              "\n",
              "  // Disable the input element since further picks are not allowed.\n",
              "  inputElement.disabled = true;\n",
              "\n",
              "  if (!files) {\n",
              "    return {\n",
              "      response: {\n",
              "        action: 'complete',\n",
              "      }\n",
              "    };\n",
              "  }\n",
              "\n",
              "  for (const file of files) {\n",
              "    const li = document.createElement('li');\n",
              "    li.append(span(file.name, {fontWeight: 'bold'}));\n",
              "    li.append(span(\n",
              "        `(${file.type || 'n/a'}) - ${file.size} bytes, ` +\n",
              "        `last modified: ${\n",
              "            file.lastModifiedDate ? file.lastModifiedDate.toLocaleDateString() :\n",
              "                                    'n/a'} - `));\n",
              "    const percent = span('0% done');\n",
              "    li.appendChild(percent);\n",
              "\n",
              "    outputElement.appendChild(li);\n",
              "\n",
              "    const fileDataPromise = new Promise((resolve) => {\n",
              "      const reader = new FileReader();\n",
              "      reader.onload = (e) => {\n",
              "        resolve(e.target.result);\n",
              "      };\n",
              "      reader.readAsArrayBuffer(file);\n",
              "    });\n",
              "    // Wait for the data to be ready.\n",
              "    let fileData = yield {\n",
              "      promise: fileDataPromise,\n",
              "      response: {\n",
              "        action: 'continue',\n",
              "      }\n",
              "    };\n",
              "\n",
              "    // Use a chunked sending to avoid message size limits. See b/62115660.\n",
              "    let position = 0;\n",
              "    do {\n",
              "      const length = Math.min(fileData.byteLength - position, MAX_PAYLOAD_SIZE);\n",
              "      const chunk = new Uint8Array(fileData, position, length);\n",
              "      position += length;\n",
              "\n",
              "      const base64 = btoa(String.fromCharCode.apply(null, chunk));\n",
              "      yield {\n",
              "        response: {\n",
              "          action: 'append',\n",
              "          file: file.name,\n",
              "          data: base64,\n",
              "        },\n",
              "      };\n",
              "\n",
              "      let percentDone = fileData.byteLength === 0 ?\n",
              "          100 :\n",
              "          Math.round((position / fileData.byteLength) * 100);\n",
              "      percent.textContent = `${percentDone}% done`;\n",
              "\n",
              "    } while (position < fileData.byteLength);\n",
              "  }\n",
              "\n",
              "  // All done.\n",
              "  yield {\n",
              "    response: {\n",
              "      action: 'complete',\n",
              "    }\n",
              "  };\n",
              "}\n",
              "\n",
              "scope.google = scope.google || {};\n",
              "scope.google.colab = scope.google.colab || {};\n",
              "scope.google.colab._files = {\n",
              "  _uploadFiles,\n",
              "  _uploadFilesContinue,\n",
              "};\n",
              "})(self);\n",
              "</script> "
            ]
          },
          "metadata": {}
        },
        {
          "output_type": "stream",
          "name": "stdout",
          "text": [
            "Saving employee_dataset.csv to employee_dataset.csv\n"
          ]
        }
      ]
    },
    {
      "cell_type": "code",
      "source": [
        "df = pd.read_csv('employee_dataset.csv')"
      ],
      "metadata": {
        "id": "eedxyKnYFi23"
      },
      "execution_count": 3,
      "outputs": []
    },
    {
      "cell_type": "markdown",
      "source": [
        "#### Data Analysis\n"
      ],
      "metadata": {
        "id": "dRQWFBkJF9i8"
      }
    },
    {
      "cell_type": "code",
      "source": [
        "df.head()"
      ],
      "metadata": {
        "colab": {
          "base_uri": "https://localhost:8080/",
          "height": 206
        },
        "id": "ij2swu_EF5Wd",
        "outputId": "eae0fcd4-856a-4467-bf63-22e3c7ac7a12"
      },
      "execution_count": 4,
      "outputs": [
        {
          "output_type": "execute_result",
          "data": {
            "text/plain": [
              "  Employee_ID Grade  Salary\n",
              "0        E001     B  107255\n",
              "1        E002     B   82778\n",
              "2        E003     B   98467\n",
              "3        E004     D   45148\n",
              "4        E005     C  115571"
            ],
            "text/html": [
              "\n",
              "  <div id=\"df-e4997a15-bfa0-4289-b8a9-fad376f4f422\" class=\"colab-df-container\">\n",
              "    <div>\n",
              "<style scoped>\n",
              "    .dataframe tbody tr th:only-of-type {\n",
              "        vertical-align: middle;\n",
              "    }\n",
              "\n",
              "    .dataframe tbody tr th {\n",
              "        vertical-align: top;\n",
              "    }\n",
              "\n",
              "    .dataframe thead th {\n",
              "        text-align: right;\n",
              "    }\n",
              "</style>\n",
              "<table border=\"1\" class=\"dataframe\">\n",
              "  <thead>\n",
              "    <tr style=\"text-align: right;\">\n",
              "      <th></th>\n",
              "      <th>Employee_ID</th>\n",
              "      <th>Grade</th>\n",
              "      <th>Salary</th>\n",
              "    </tr>\n",
              "  </thead>\n",
              "  <tbody>\n",
              "    <tr>\n",
              "      <th>0</th>\n",
              "      <td>E001</td>\n",
              "      <td>B</td>\n",
              "      <td>107255</td>\n",
              "    </tr>\n",
              "    <tr>\n",
              "      <th>1</th>\n",
              "      <td>E002</td>\n",
              "      <td>B</td>\n",
              "      <td>82778</td>\n",
              "    </tr>\n",
              "    <tr>\n",
              "      <th>2</th>\n",
              "      <td>E003</td>\n",
              "      <td>B</td>\n",
              "      <td>98467</td>\n",
              "    </tr>\n",
              "    <tr>\n",
              "      <th>3</th>\n",
              "      <td>E004</td>\n",
              "      <td>D</td>\n",
              "      <td>45148</td>\n",
              "    </tr>\n",
              "    <tr>\n",
              "      <th>4</th>\n",
              "      <td>E005</td>\n",
              "      <td>C</td>\n",
              "      <td>115571</td>\n",
              "    </tr>\n",
              "  </tbody>\n",
              "</table>\n",
              "</div>\n",
              "    <div class=\"colab-df-buttons\">\n",
              "\n",
              "  <div class=\"colab-df-container\">\n",
              "    <button class=\"colab-df-convert\" onclick=\"convertToInteractive('df-e4997a15-bfa0-4289-b8a9-fad376f4f422')\"\n",
              "            title=\"Convert this dataframe to an interactive table.\"\n",
              "            style=\"display:none;\">\n",
              "\n",
              "  <svg xmlns=\"http://www.w3.org/2000/svg\" height=\"24px\" viewBox=\"0 -960 960 960\">\n",
              "    <path d=\"M120-120v-720h720v720H120Zm60-500h600v-160H180v160Zm220 220h160v-160H400v160Zm0 220h160v-160H400v160ZM180-400h160v-160H180v160Zm440 0h160v-160H620v160ZM180-180h160v-160H180v160Zm440 0h160v-160H620v160Z\"/>\n",
              "  </svg>\n",
              "    </button>\n",
              "\n",
              "  <style>\n",
              "    .colab-df-container {\n",
              "      display:flex;\n",
              "      gap: 12px;\n",
              "    }\n",
              "\n",
              "    .colab-df-convert {\n",
              "      background-color: #E8F0FE;\n",
              "      border: none;\n",
              "      border-radius: 50%;\n",
              "      cursor: pointer;\n",
              "      display: none;\n",
              "      fill: #1967D2;\n",
              "      height: 32px;\n",
              "      padding: 0 0 0 0;\n",
              "      width: 32px;\n",
              "    }\n",
              "\n",
              "    .colab-df-convert:hover {\n",
              "      background-color: #E2EBFA;\n",
              "      box-shadow: 0px 1px 2px rgba(60, 64, 67, 0.3), 0px 1px 3px 1px rgba(60, 64, 67, 0.15);\n",
              "      fill: #174EA6;\n",
              "    }\n",
              "\n",
              "    .colab-df-buttons div {\n",
              "      margin-bottom: 4px;\n",
              "    }\n",
              "\n",
              "    [theme=dark] .colab-df-convert {\n",
              "      background-color: #3B4455;\n",
              "      fill: #D2E3FC;\n",
              "    }\n",
              "\n",
              "    [theme=dark] .colab-df-convert:hover {\n",
              "      background-color: #434B5C;\n",
              "      box-shadow: 0px 1px 3px 1px rgba(0, 0, 0, 0.15);\n",
              "      filter: drop-shadow(0px 1px 2px rgba(0, 0, 0, 0.3));\n",
              "      fill: #FFFFFF;\n",
              "    }\n",
              "  </style>\n",
              "\n",
              "    <script>\n",
              "      const buttonEl =\n",
              "        document.querySelector('#df-e4997a15-bfa0-4289-b8a9-fad376f4f422 button.colab-df-convert');\n",
              "      buttonEl.style.display =\n",
              "        google.colab.kernel.accessAllowed ? 'block' : 'none';\n",
              "\n",
              "      async function convertToInteractive(key) {\n",
              "        const element = document.querySelector('#df-e4997a15-bfa0-4289-b8a9-fad376f4f422');\n",
              "        const dataTable =\n",
              "          await google.colab.kernel.invokeFunction('convertToInteractive',\n",
              "                                                    [key], {});\n",
              "        if (!dataTable) return;\n",
              "\n",
              "        const docLinkHtml = 'Like what you see? Visit the ' +\n",
              "          '<a target=\"_blank\" href=https://colab.research.google.com/notebooks/data_table.ipynb>data table notebook</a>'\n",
              "          + ' to learn more about interactive tables.';\n",
              "        element.innerHTML = '';\n",
              "        dataTable['output_type'] = 'display_data';\n",
              "        await google.colab.output.renderOutput(dataTable, element);\n",
              "        const docLink = document.createElement('div');\n",
              "        docLink.innerHTML = docLinkHtml;\n",
              "        element.appendChild(docLink);\n",
              "      }\n",
              "    </script>\n",
              "  </div>\n",
              "\n",
              "\n",
              "<div id=\"df-c9275afe-ee55-4a7a-af81-de61f8cdbdc7\">\n",
              "  <button class=\"colab-df-quickchart\" onclick=\"quickchart('df-c9275afe-ee55-4a7a-af81-de61f8cdbdc7')\"\n",
              "            title=\"Suggest charts\"\n",
              "            style=\"display:none;\">\n",
              "\n",
              "<svg xmlns=\"http://www.w3.org/2000/svg\" height=\"24px\"viewBox=\"0 0 24 24\"\n",
              "     width=\"24px\">\n",
              "    <g>\n",
              "        <path d=\"M19 3H5c-1.1 0-2 .9-2 2v14c0 1.1.9 2 2 2h14c1.1 0 2-.9 2-2V5c0-1.1-.9-2-2-2zM9 17H7v-7h2v7zm4 0h-2V7h2v10zm4 0h-2v-4h2v4z\"/>\n",
              "    </g>\n",
              "</svg>\n",
              "  </button>\n",
              "\n",
              "<style>\n",
              "  .colab-df-quickchart {\n",
              "      --bg-color: #E8F0FE;\n",
              "      --fill-color: #1967D2;\n",
              "      --hover-bg-color: #E2EBFA;\n",
              "      --hover-fill-color: #174EA6;\n",
              "      --disabled-fill-color: #AAA;\n",
              "      --disabled-bg-color: #DDD;\n",
              "  }\n",
              "\n",
              "  [theme=dark] .colab-df-quickchart {\n",
              "      --bg-color: #3B4455;\n",
              "      --fill-color: #D2E3FC;\n",
              "      --hover-bg-color: #434B5C;\n",
              "      --hover-fill-color: #FFFFFF;\n",
              "      --disabled-bg-color: #3B4455;\n",
              "      --disabled-fill-color: #666;\n",
              "  }\n",
              "\n",
              "  .colab-df-quickchart {\n",
              "    background-color: var(--bg-color);\n",
              "    border: none;\n",
              "    border-radius: 50%;\n",
              "    cursor: pointer;\n",
              "    display: none;\n",
              "    fill: var(--fill-color);\n",
              "    height: 32px;\n",
              "    padding: 0;\n",
              "    width: 32px;\n",
              "  }\n",
              "\n",
              "  .colab-df-quickchart:hover {\n",
              "    background-color: var(--hover-bg-color);\n",
              "    box-shadow: 0 1px 2px rgba(60, 64, 67, 0.3), 0 1px 3px 1px rgba(60, 64, 67, 0.15);\n",
              "    fill: var(--button-hover-fill-color);\n",
              "  }\n",
              "\n",
              "  .colab-df-quickchart-complete:disabled,\n",
              "  .colab-df-quickchart-complete:disabled:hover {\n",
              "    background-color: var(--disabled-bg-color);\n",
              "    fill: var(--disabled-fill-color);\n",
              "    box-shadow: none;\n",
              "  }\n",
              "\n",
              "  .colab-df-spinner {\n",
              "    border: 2px solid var(--fill-color);\n",
              "    border-color: transparent;\n",
              "    border-bottom-color: var(--fill-color);\n",
              "    animation:\n",
              "      spin 1s steps(1) infinite;\n",
              "  }\n",
              "\n",
              "  @keyframes spin {\n",
              "    0% {\n",
              "      border-color: transparent;\n",
              "      border-bottom-color: var(--fill-color);\n",
              "      border-left-color: var(--fill-color);\n",
              "    }\n",
              "    20% {\n",
              "      border-color: transparent;\n",
              "      border-left-color: var(--fill-color);\n",
              "      border-top-color: var(--fill-color);\n",
              "    }\n",
              "    30% {\n",
              "      border-color: transparent;\n",
              "      border-left-color: var(--fill-color);\n",
              "      border-top-color: var(--fill-color);\n",
              "      border-right-color: var(--fill-color);\n",
              "    }\n",
              "    40% {\n",
              "      border-color: transparent;\n",
              "      border-right-color: var(--fill-color);\n",
              "      border-top-color: var(--fill-color);\n",
              "    }\n",
              "    60% {\n",
              "      border-color: transparent;\n",
              "      border-right-color: var(--fill-color);\n",
              "    }\n",
              "    80% {\n",
              "      border-color: transparent;\n",
              "      border-right-color: var(--fill-color);\n",
              "      border-bottom-color: var(--fill-color);\n",
              "    }\n",
              "    90% {\n",
              "      border-color: transparent;\n",
              "      border-bottom-color: var(--fill-color);\n",
              "    }\n",
              "  }\n",
              "</style>\n",
              "\n",
              "  <script>\n",
              "    async function quickchart(key) {\n",
              "      const quickchartButtonEl =\n",
              "        document.querySelector('#' + key + ' button');\n",
              "      quickchartButtonEl.disabled = true;  // To prevent multiple clicks.\n",
              "      quickchartButtonEl.classList.add('colab-df-spinner');\n",
              "      try {\n",
              "        const charts = await google.colab.kernel.invokeFunction(\n",
              "            'suggestCharts', [key], {});\n",
              "      } catch (error) {\n",
              "        console.error('Error during call to suggestCharts:', error);\n",
              "      }\n",
              "      quickchartButtonEl.classList.remove('colab-df-spinner');\n",
              "      quickchartButtonEl.classList.add('colab-df-quickchart-complete');\n",
              "    }\n",
              "    (() => {\n",
              "      let quickchartButtonEl =\n",
              "        document.querySelector('#df-c9275afe-ee55-4a7a-af81-de61f8cdbdc7 button');\n",
              "      quickchartButtonEl.style.display =\n",
              "        google.colab.kernel.accessAllowed ? 'block' : 'none';\n",
              "    })();\n",
              "  </script>\n",
              "</div>\n",
              "\n",
              "    </div>\n",
              "  </div>\n"
            ],
            "application/vnd.google.colaboratory.intrinsic+json": {
              "type": "dataframe",
              "variable_name": "df",
              "summary": "{\n  \"name\": \"df\",\n  \"rows\": 100,\n  \"fields\": [\n    {\n      \"column\": \"Employee_ID\",\n      \"properties\": {\n        \"dtype\": \"string\",\n        \"num_unique_values\": 100,\n        \"samples\": [\n          \"E084\",\n          \"E054\",\n          \"E071\"\n        ],\n        \"semantic_type\": \"\",\n        \"description\": \"\"\n      }\n    },\n    {\n      \"column\": \"Grade\",\n      \"properties\": {\n        \"dtype\": \"category\",\n        \"num_unique_values\": 4,\n        \"samples\": [\n          \"D\",\n          \"A\",\n          \"B\"\n        ],\n        \"semantic_type\": \"\",\n        \"description\": \"\"\n      }\n    },\n    {\n      \"column\": \"Salary\",\n      \"properties\": {\n        \"dtype\": \"number\",\n        \"std\": 25656,\n        \"min\": 30242,\n        \"max\": 118645,\n        \"num_unique_values\": 100,\n        \"samples\": [\n          34466,\n          86853,\n          51805\n        ],\n        \"semantic_type\": \"\",\n        \"description\": \"\"\n      }\n    }\n  ]\n}"
            }
          },
          "metadata": {},
          "execution_count": 4
        }
      ]
    },
    {
      "cell_type": "code",
      "source": [
        "df['Grade'].value_counts()"
      ],
      "metadata": {
        "colab": {
          "base_uri": "https://localhost:8080/",
          "height": 241
        },
        "id": "VT0XtLbIGAbE",
        "outputId": "c6d98918-f427-4e7f-e92c-5fdad53d70b3"
      },
      "execution_count": 5,
      "outputs": [
        {
          "output_type": "execute_result",
          "data": {
            "text/plain": [
              "Grade\n",
              "B    30\n",
              "A    30\n",
              "D    20\n",
              "C    20\n",
              "Name: count, dtype: int64"
            ],
            "text/html": [
              "<div>\n",
              "<style scoped>\n",
              "    .dataframe tbody tr th:only-of-type {\n",
              "        vertical-align: middle;\n",
              "    }\n",
              "\n",
              "    .dataframe tbody tr th {\n",
              "        vertical-align: top;\n",
              "    }\n",
              "\n",
              "    .dataframe thead th {\n",
              "        text-align: right;\n",
              "    }\n",
              "</style>\n",
              "<table border=\"1\" class=\"dataframe\">\n",
              "  <thead>\n",
              "    <tr style=\"text-align: right;\">\n",
              "      <th></th>\n",
              "      <th>count</th>\n",
              "    </tr>\n",
              "    <tr>\n",
              "      <th>Grade</th>\n",
              "      <th></th>\n",
              "    </tr>\n",
              "  </thead>\n",
              "  <tbody>\n",
              "    <tr>\n",
              "      <th>B</th>\n",
              "      <td>30</td>\n",
              "    </tr>\n",
              "    <tr>\n",
              "      <th>A</th>\n",
              "      <td>30</td>\n",
              "    </tr>\n",
              "    <tr>\n",
              "      <th>D</th>\n",
              "      <td>20</td>\n",
              "    </tr>\n",
              "    <tr>\n",
              "      <th>C</th>\n",
              "      <td>20</td>\n",
              "    </tr>\n",
              "  </tbody>\n",
              "</table>\n",
              "</div><br><label><b>dtype:</b> int64</label>"
            ]
          },
          "metadata": {},
          "execution_count": 5
        }
      ]
    },
    {
      "cell_type": "markdown",
      "source": [
        "#### (a) Generate Samples of Size 30 (2 times) and 40 (3 times) randomly\n"
      ],
      "metadata": {
        "id": "LPcplds6Fsrk"
      }
    },
    {
      "cell_type": "code",
      "source": [
        "# Samples of size 30\n",
        "lower1 = random.randint(0,70)\n",
        "upper1 = lower1+30\n",
        "df1 = df.iloc[lower1:upper1, :]\n",
        "\n",
        "print(df1['Grade'].value_counts())\n",
        "print(df1['Grade'].count())"
      ],
      "metadata": {
        "colab": {
          "base_uri": "https://localhost:8080/"
        },
        "id": "qcRQN9qeFt2H",
        "outputId": "f5251ccd-e90b-4b69-af6b-8a1b586bef84"
      },
      "execution_count": 6,
      "outputs": [
        {
          "output_type": "stream",
          "name": "stdout",
          "text": [
            "Grade\n",
            "A    9\n",
            "D    8\n",
            "B    8\n",
            "C    5\n",
            "Name: count, dtype: int64\n",
            "30\n"
          ]
        }
      ]
    },
    {
      "cell_type": "code",
      "source": [
        "print(st.mean(df1['Salary']))\n",
        "print(st.median(df1['Salary']))\n",
        "print(st.mode(df1['Salary']))"
      ],
      "metadata": {
        "colab": {
          "base_uri": "https://localhost:8080/"
        },
        "id": "w2HfgR9vmbZd",
        "outputId": "3ad62877-d1f3-470e-f83d-c1abf09cf8ea"
      },
      "execution_count": 7,
      "outputs": [
        {
          "output_type": "stream",
          "name": "stdout",
          "text": [
            "67558.53333333334\n",
            "59944.5\n",
            "59224\n"
          ]
        }
      ]
    },
    {
      "cell_type": "code",
      "source": [
        "# Samples of size 30\n",
        "lower2 = random.randint(0,70)\n",
        "upper2 = lower2+30\n",
        "df2 = df.iloc[lower2:upper2, :]\n",
        "\n",
        "print(df2['Grade'].value_counts())\n",
        "print(df2['Grade'].count())"
      ],
      "metadata": {
        "colab": {
          "base_uri": "https://localhost:8080/"
        },
        "id": "shgIIC4uGx3X",
        "outputId": "6fa290da-d3c6-4f97-eb77-89d75d52e861"
      },
      "execution_count": 8,
      "outputs": [
        {
          "output_type": "stream",
          "name": "stdout",
          "text": [
            "Grade\n",
            "B    10\n",
            "A     8\n",
            "C     7\n",
            "D     5\n",
            "Name: count, dtype: int64\n",
            "30\n"
          ]
        }
      ]
    },
    {
      "cell_type": "code",
      "source": [
        "print(st.mean(df2['Salary']))\n",
        "print(st.median(df2['Salary']))\n",
        "print(st.mode(df2['Salary']))"
      ],
      "metadata": {
        "colab": {
          "base_uri": "https://localhost:8080/"
        },
        "id": "YiuajT6tm57W",
        "outputId": "eef96cce-dfd7-4ed1-ecf7-18ed8da42a95"
      },
      "execution_count": 9,
      "outputs": [
        {
          "output_type": "stream",
          "name": "stdout",
          "text": [
            "62924.96666666667\n",
            "59306.5\n",
            "42146\n"
          ]
        }
      ]
    },
    {
      "cell_type": "code",
      "source": [
        "# Samples of size 40\n",
        "lower3 = random.randint(0,60)\n",
        "upper3 = lower3+40\n",
        "df3 = df.iloc[lower3:upper3, :]\n",
        "\n",
        "print(df3['Grade'].value_counts())\n",
        "print(df3['Grade'].count())"
      ],
      "metadata": {
        "colab": {
          "base_uri": "https://localhost:8080/"
        },
        "id": "gz4F_ZAEICo6",
        "outputId": "0535661c-a696-42a5-fa49-3d569a0f4040"
      },
      "execution_count": 10,
      "outputs": [
        {
          "output_type": "stream",
          "name": "stdout",
          "text": [
            "Grade\n",
            "B    12\n",
            "A    12\n",
            "D     8\n",
            "C     8\n",
            "Name: count, dtype: int64\n",
            "40\n"
          ]
        }
      ]
    },
    {
      "cell_type": "code",
      "source": [
        "print(st.mean(df3['Salary']))\n",
        "print(st.median(df3['Salary']))\n",
        "print(st.mode(df3['Salary']))"
      ],
      "metadata": {
        "colab": {
          "base_uri": "https://localhost:8080/"
        },
        "id": "4i2QSJcGm-al",
        "outputId": "e6ae09f2-30b9-430b-f42f-f68cf6d92518"
      },
      "execution_count": 11,
      "outputs": [
        {
          "output_type": "stream",
          "name": "stdout",
          "text": [
            "63069.825\n",
            "62509.0\n",
            "102327\n"
          ]
        }
      ]
    },
    {
      "cell_type": "code",
      "source": [
        "# Samples of size 40\n",
        "lower4 = random.randint(0,60)\n",
        "upper4 = lower4+40\n",
        "df4 = df.iloc[lower4:upper4, :]\n",
        "\n",
        "print(df4['Grade'].value_counts())\n",
        "print(df4['Grade'].count())"
      ],
      "metadata": {
        "colab": {
          "base_uri": "https://localhost:8080/"
        },
        "id": "y8mRCzp8IyZs",
        "outputId": "04ef313f-ab22-43d0-edbe-592221eb9fdd"
      },
      "execution_count": 12,
      "outputs": [
        {
          "output_type": "stream",
          "name": "stdout",
          "text": [
            "Grade\n",
            "B    14\n",
            "A    12\n",
            "D     8\n",
            "C     6\n",
            "Name: count, dtype: int64\n",
            "40\n"
          ]
        }
      ]
    },
    {
      "cell_type": "code",
      "source": [
        "print(st.mean(df4['Salary']))\n",
        "print(st.median(df4['Salary']))\n",
        "print(st.mode(df4['Salary']))"
      ],
      "metadata": {
        "colab": {
          "base_uri": "https://localhost:8080/"
        },
        "id": "g0fNec2MnDgq",
        "outputId": "8f377655-cd4c-4d43-83f8-7bed77d51b20"
      },
      "execution_count": 13,
      "outputs": [
        {
          "output_type": "stream",
          "name": "stdout",
          "text": [
            "72015.825\n",
            "73442.5\n",
            "60928\n"
          ]
        }
      ]
    },
    {
      "cell_type": "code",
      "source": [
        "# Samples of size 40\n",
        "lower5 = random.randint(0,60)\n",
        "upper5 = lower5+40\n",
        "df5 = df.iloc[lower5:upper5, :]\n",
        "\n",
        "print(df5['Grade'].value_counts())\n",
        "print(df5['Grade'].count())"
      ],
      "metadata": {
        "colab": {
          "base_uri": "https://localhost:8080/"
        },
        "id": "UVQkBwmPIy3X",
        "outputId": "224963ec-4649-4666-8ef7-7cf48a77457c"
      },
      "execution_count": 14,
      "outputs": [
        {
          "output_type": "stream",
          "name": "stdout",
          "text": [
            "Grade\n",
            "A    17\n",
            "B     9\n",
            "C     7\n",
            "D     7\n",
            "Name: count, dtype: int64\n",
            "40\n"
          ]
        }
      ]
    },
    {
      "cell_type": "code",
      "source": [
        "print(st.mean(df5['Salary']))\n",
        "print(st.median(df5['Salary']))\n",
        "print(st.mode(df5['Salary']))"
      ],
      "metadata": {
        "colab": {
          "base_uri": "https://localhost:8080/"
        },
        "id": "7MZzb_vPnJC1",
        "outputId": "31fdf714-5b9e-455b-d24e-29b39772c2f7"
      },
      "execution_count": 15,
      "outputs": [
        {
          "output_type": "stream",
          "name": "stdout",
          "text": [
            "75945.05\n",
            "73442.5\n",
            "107563\n"
          ]
        }
      ]
    },
    {
      "cell_type": "markdown",
      "source": [
        "#### (b) Generate Samples of Size 30 (2 times) and 40 (3 times) with proportional allocation with replacement\n"
      ],
      "metadata": {
        "id": "Pme-IJUeJFB5"
      }
    },
    {
      "cell_type": "code",
      "source": [
        "## My approach to this problem\n",
        "  # Seperate rows of each class and store them in a new dataframe\n",
        "  # Create a dataframe by concating the desired proportion of rows from dataframe of each class"
      ],
      "metadata": {
        "id": "cNE7ebr-I_AF"
      },
      "execution_count": 16,
      "outputs": []
    },
    {
      "cell_type": "code",
      "source": [
        "df_A = df[df['Grade'] == 'A']\n",
        "df_B = df[df['Grade'] == 'B']\n",
        "df_C = df[df['Grade'] == 'C']\n",
        "df_D = df[df['Grade'] == 'D']"
      ],
      "metadata": {
        "id": "6sVy4YnSM9hz"
      },
      "execution_count": 17,
      "outputs": []
    },
    {
      "cell_type": "code",
      "source": [
        "print(df_A['Grade'].value_counts())\n",
        "print(df_B['Grade'].value_counts())\n",
        "print(df_C['Grade'].value_counts())\n",
        "print(df_D['Grade'].value_counts())"
      ],
      "metadata": {
        "colab": {
          "base_uri": "https://localhost:8080/"
        },
        "id": "BPBIf5V9NK6e",
        "outputId": "21a5412a-2b3c-42b7-c1f0-d4354efc7a9e"
      },
      "execution_count": 18,
      "outputs": [
        {
          "output_type": "stream",
          "name": "stdout",
          "text": [
            "Grade\n",
            "A    30\n",
            "Name: count, dtype: int64\n",
            "Grade\n",
            "B    30\n",
            "Name: count, dtype: int64\n",
            "Grade\n",
            "C    20\n",
            "Name: count, dtype: int64\n",
            "Grade\n",
            "D    20\n",
            "Name: count, dtype: int64\n"
          ]
        }
      ]
    },
    {
      "cell_type": "code",
      "source": [
        "# A = 30 ; No of rows in df_A\n",
        "# B = 30 ; No of rows in df_B\n",
        "# C = 20 ; No of rows in df_C\n",
        "# D = 20 ; No of rows in df_D"
      ],
      "metadata": {
        "id": "LBLTWpepNM8_"
      },
      "execution_count": 19,
      "outputs": []
    },
    {
      "cell_type": "code",
      "source": [
        "## Sample of size 30(A-9, B-9, C-6, D-6)\n",
        "\n",
        "# Get the 'A' grade rows\n",
        "lower = random.randint(0, 21)\n",
        "upper = lower+9\n",
        "df_A1 = df_A.iloc[lower:upper, :]\n",
        "\n",
        "# Get the 'B' grade rows\n",
        "lower = random.randint(0, 21)\n",
        "upper = lower+9\n",
        "df_B1 = df_B.iloc[lower:upper, :]\n",
        "\n",
        "# Get the 'C' grade rows\n",
        "lower = random.randint(0, 14)\n",
        "upper = lower+6\n",
        "df_C1 = df_C.iloc[lower:upper, :]\n",
        "\n",
        "# Get the 'D' grade rows\n",
        "lower = random.randint(0, 14)\n",
        "upper = lower+6\n",
        "df_D1 = df_D.iloc[lower:upper, :]\n",
        "\n",
        "# Concating all the dframes\n",
        "frames = [df_A1, df_B1, df_C1, df_D1]\n",
        "df1_30 = pd.concat(frames)\n",
        "\n",
        "df1_30['Grade'].value_counts()"
      ],
      "metadata": {
        "colab": {
          "base_uri": "https://localhost:8080/",
          "height": 241
        },
        "id": "rjaSXkjne8kq",
        "outputId": "4bba23ba-e1e9-4494-99f9-cdcb3f8e0bd0"
      },
      "execution_count": 20,
      "outputs": [
        {
          "output_type": "execute_result",
          "data": {
            "text/plain": [
              "Grade\n",
              "A    9\n",
              "B    9\n",
              "C    6\n",
              "D    6\n",
              "Name: count, dtype: int64"
            ],
            "text/html": [
              "<div>\n",
              "<style scoped>\n",
              "    .dataframe tbody tr th:only-of-type {\n",
              "        vertical-align: middle;\n",
              "    }\n",
              "\n",
              "    .dataframe tbody tr th {\n",
              "        vertical-align: top;\n",
              "    }\n",
              "\n",
              "    .dataframe thead th {\n",
              "        text-align: right;\n",
              "    }\n",
              "</style>\n",
              "<table border=\"1\" class=\"dataframe\">\n",
              "  <thead>\n",
              "    <tr style=\"text-align: right;\">\n",
              "      <th></th>\n",
              "      <th>count</th>\n",
              "    </tr>\n",
              "    <tr>\n",
              "      <th>Grade</th>\n",
              "      <th></th>\n",
              "    </tr>\n",
              "  </thead>\n",
              "  <tbody>\n",
              "    <tr>\n",
              "      <th>A</th>\n",
              "      <td>9</td>\n",
              "    </tr>\n",
              "    <tr>\n",
              "      <th>B</th>\n",
              "      <td>9</td>\n",
              "    </tr>\n",
              "    <tr>\n",
              "      <th>C</th>\n",
              "      <td>6</td>\n",
              "    </tr>\n",
              "    <tr>\n",
              "      <th>D</th>\n",
              "      <td>6</td>\n",
              "    </tr>\n",
              "  </tbody>\n",
              "</table>\n",
              "</div><br><label><b>dtype:</b> int64</label>"
            ]
          },
          "metadata": {},
          "execution_count": 20
        }
      ]
    },
    {
      "cell_type": "code",
      "source": [
        "print('Mean: ', st.mean(df1_30['Salary']))\n",
        "print('Median: ', st.median(df1_30['Salary']))\n",
        "print('Mode: ', st.mode(df1_30['Salary']))"
      ],
      "metadata": {
        "colab": {
          "base_uri": "https://localhost:8080/"
        },
        "id": "d5iupdxFnfr0",
        "outputId": "bfa37b05-c854-4f2a-e286-95cb1b80e483"
      },
      "execution_count": 21,
      "outputs": [
        {
          "output_type": "stream",
          "name": "stdout",
          "text": [
            "Mean:  62597.7\n",
            "Median:  57984.0\n",
            "Mode:  59846\n"
          ]
        }
      ]
    },
    {
      "cell_type": "code",
      "source": [
        "## Sample of size 30(A-9, B-9, C-6, D-6)\n",
        "\n",
        "# Get the 'A' grade rows\n",
        "lower = random.randint(0, 21)\n",
        "upper = lower+9\n",
        "df_A1 = df_A.iloc[lower:upper, :]\n",
        "\n",
        "# Get the 'B' grade rows\n",
        "lower = random.randint(0, 21)\n",
        "upper = lower+9\n",
        "df_B1 = df_B.iloc[lower:upper, :]\n",
        "\n",
        "# Get the 'C' grade rows\n",
        "lower = random.randint(0, 14)\n",
        "upper = lower+6\n",
        "df_C1 = df_C.iloc[lower:upper, :]\n",
        "\n",
        "# Get the 'D' grade rows\n",
        "lower = random.randint(0, 14)\n",
        "upper = lower+6\n",
        "df_D1 = df_D.iloc[lower:upper, :]\n",
        "\n",
        "# Concating all the dframes\n",
        "frames = [df_A1, df_B1, df_C1, df_D1]\n",
        "df2_30 = pd.concat(frames)\n",
        "\n",
        "df2_30['Grade'].value_counts()"
      ],
      "metadata": {
        "colab": {
          "base_uri": "https://localhost:8080/",
          "height": 241
        },
        "id": "UFFJ0CJFic-Z",
        "outputId": "110b1c35-1d71-4e39-db1f-8ad885dccaaf"
      },
      "execution_count": 22,
      "outputs": [
        {
          "output_type": "execute_result",
          "data": {
            "text/plain": [
              "Grade\n",
              "A    9\n",
              "B    9\n",
              "C    6\n",
              "D    6\n",
              "Name: count, dtype: int64"
            ],
            "text/html": [
              "<div>\n",
              "<style scoped>\n",
              "    .dataframe tbody tr th:only-of-type {\n",
              "        vertical-align: middle;\n",
              "    }\n",
              "\n",
              "    .dataframe tbody tr th {\n",
              "        vertical-align: top;\n",
              "    }\n",
              "\n",
              "    .dataframe thead th {\n",
              "        text-align: right;\n",
              "    }\n",
              "</style>\n",
              "<table border=\"1\" class=\"dataframe\">\n",
              "  <thead>\n",
              "    <tr style=\"text-align: right;\">\n",
              "      <th></th>\n",
              "      <th>count</th>\n",
              "    </tr>\n",
              "    <tr>\n",
              "      <th>Grade</th>\n",
              "      <th></th>\n",
              "    </tr>\n",
              "  </thead>\n",
              "  <tbody>\n",
              "    <tr>\n",
              "      <th>A</th>\n",
              "      <td>9</td>\n",
              "    </tr>\n",
              "    <tr>\n",
              "      <th>B</th>\n",
              "      <td>9</td>\n",
              "    </tr>\n",
              "    <tr>\n",
              "      <th>C</th>\n",
              "      <td>6</td>\n",
              "    </tr>\n",
              "    <tr>\n",
              "      <th>D</th>\n",
              "      <td>6</td>\n",
              "    </tr>\n",
              "  </tbody>\n",
              "</table>\n",
              "</div><br><label><b>dtype:</b> int64</label>"
            ]
          },
          "metadata": {},
          "execution_count": 22
        }
      ]
    },
    {
      "cell_type": "code",
      "source": [
        "print('Mean: ', st.mean(df2_30['Salary']))\n",
        "print('Median: ', st.median(df2_30['Salary']))\n",
        "print('Mode: ', st.mode(df2_30['Salary']))"
      ],
      "metadata": {
        "colab": {
          "base_uri": "https://localhost:8080/"
        },
        "id": "ml5UgfQrnmw5",
        "outputId": "01e7e660-6ca0-4b94-d8bd-7166b6ba68c3"
      },
      "execution_count": 23,
      "outputs": [
        {
          "output_type": "stream",
          "name": "stdout",
          "text": [
            "Mean:  68692.2\n",
            "Median:  61541.5\n",
            "Mode:  90138\n"
          ]
        }
      ]
    },
    {
      "cell_type": "code",
      "source": [
        "# A = 30 ; No of rows in df_A\n",
        "# B = 30 ; No of rows in df_B\n",
        "# C = 20 ; No of rows in df_C\n",
        "# D = 20 ; No of rows in df_D"
      ],
      "metadata": {
        "id": "fzJu-8GwjUu5"
      },
      "execution_count": 24,
      "outputs": []
    },
    {
      "cell_type": "code",
      "source": [
        "## Sample of size 40(A-12, B-12, C-8, D-8)\n",
        "\n",
        "# Get the 'A' grade rows\n",
        "lower = random.randint(0, 18)\n",
        "upper = lower+12\n",
        "df_A1 = df_A.iloc[lower:upper, :]\n",
        "\n",
        "# Get the 'B' grade rows\n",
        "lower = random.randint(0, 18)\n",
        "upper = lower+12\n",
        "df_B1 = df_B.iloc[lower:upper, :]\n",
        "\n",
        "# Get the 'C' grade rows\n",
        "lower = random.randint(0, 12)\n",
        "upper = lower+8\n",
        "df_C1 = df_C.iloc[lower:upper, :]\n",
        "\n",
        "# Get the 'D' grade rows\n",
        "lower = random.randint(0, 12)\n",
        "upper = lower+8\n",
        "df_D1 = df_D.iloc[lower:upper, :]\n",
        "\n",
        "# Concating all the dframes\n",
        "frames = [df_A1, df_B1, df_C1, df_D1]\n",
        "df1_40 = pd.concat(frames)\n",
        "\n",
        "df1_40['Grade'].value_counts()"
      ],
      "metadata": {
        "colab": {
          "base_uri": "https://localhost:8080/",
          "height": 241
        },
        "id": "-KMMyr9Bi8gb",
        "outputId": "ab6357d5-f60d-43db-b3ee-cb84861ee311"
      },
      "execution_count": 25,
      "outputs": [
        {
          "output_type": "execute_result",
          "data": {
            "text/plain": [
              "Grade\n",
              "A    12\n",
              "B    12\n",
              "C     8\n",
              "D     8\n",
              "Name: count, dtype: int64"
            ],
            "text/html": [
              "<div>\n",
              "<style scoped>\n",
              "    .dataframe tbody tr th:only-of-type {\n",
              "        vertical-align: middle;\n",
              "    }\n",
              "\n",
              "    .dataframe tbody tr th {\n",
              "        vertical-align: top;\n",
              "    }\n",
              "\n",
              "    .dataframe thead th {\n",
              "        text-align: right;\n",
              "    }\n",
              "</style>\n",
              "<table border=\"1\" class=\"dataframe\">\n",
              "  <thead>\n",
              "    <tr style=\"text-align: right;\">\n",
              "      <th></th>\n",
              "      <th>count</th>\n",
              "    </tr>\n",
              "    <tr>\n",
              "      <th>Grade</th>\n",
              "      <th></th>\n",
              "    </tr>\n",
              "  </thead>\n",
              "  <tbody>\n",
              "    <tr>\n",
              "      <th>A</th>\n",
              "      <td>12</td>\n",
              "    </tr>\n",
              "    <tr>\n",
              "      <th>B</th>\n",
              "      <td>12</td>\n",
              "    </tr>\n",
              "    <tr>\n",
              "      <th>C</th>\n",
              "      <td>8</td>\n",
              "    </tr>\n",
              "    <tr>\n",
              "      <th>D</th>\n",
              "      <td>8</td>\n",
              "    </tr>\n",
              "  </tbody>\n",
              "</table>\n",
              "</div><br><label><b>dtype:</b> int64</label>"
            ]
          },
          "metadata": {},
          "execution_count": 25
        }
      ]
    },
    {
      "cell_type": "code",
      "source": [
        "print('Mean: ', st.mean(df1_40['Salary']))\n",
        "print('Median: ', st.median(df1_40['Salary']))\n",
        "print('Mode: ', st.mode(df1_40['Salary']))"
      ],
      "metadata": {
        "colab": {
          "base_uri": "https://localhost:8080/"
        },
        "id": "H3BSLiAJnr4B",
        "outputId": "17f849e6-146c-4788-9e06-d038b63874fa"
      },
      "execution_count": 26,
      "outputs": [
        {
          "output_type": "stream",
          "name": "stdout",
          "text": [
            "Mean:  70905.2\n",
            "Median:  64228.5\n",
            "Mode:  42959\n"
          ]
        }
      ]
    },
    {
      "cell_type": "code",
      "source": [
        "## Sample of size 40(A-12, B-12, C-8, D-8)\n",
        "\n",
        "# Get the 'A' grade rows\n",
        "lower = random.randint(0, 18)\n",
        "upper = lower+12\n",
        "df_A1 = df_A.iloc[lower:upper, :]\n",
        "\n",
        "# Get the 'B' grade rows\n",
        "lower = random.randint(0, 18)\n",
        "upper = lower+12\n",
        "df_B1 = df_B.iloc[lower:upper, :]\n",
        "\n",
        "# Get the 'C' grade rows\n",
        "lower = random.randint(0, 12)\n",
        "upper = lower+8\n",
        "df_C1 = df_C.iloc[lower:upper, :]\n",
        "\n",
        "# Get the 'D' grade rows\n",
        "lower = random.randint(0, 12)\n",
        "upper = lower+8\n",
        "df_D1 = df_D.iloc[lower:upper, :]\n",
        "\n",
        "# Concating all the dframes\n",
        "frames = [df_A1, df_B1, df_C1, df_D1]\n",
        "df2_40 = pd.concat(frames)\n",
        "\n",
        "df2_40['Grade'].value_counts()"
      ],
      "metadata": {
        "colab": {
          "base_uri": "https://localhost:8080/",
          "height": 241
        },
        "id": "myGYM1ONiyvP",
        "outputId": "daffa09e-adec-440f-c494-b2628a028a5e"
      },
      "execution_count": 27,
      "outputs": [
        {
          "output_type": "execute_result",
          "data": {
            "text/plain": [
              "Grade\n",
              "A    12\n",
              "B    12\n",
              "C     8\n",
              "D     8\n",
              "Name: count, dtype: int64"
            ],
            "text/html": [
              "<div>\n",
              "<style scoped>\n",
              "    .dataframe tbody tr th:only-of-type {\n",
              "        vertical-align: middle;\n",
              "    }\n",
              "\n",
              "    .dataframe tbody tr th {\n",
              "        vertical-align: top;\n",
              "    }\n",
              "\n",
              "    .dataframe thead th {\n",
              "        text-align: right;\n",
              "    }\n",
              "</style>\n",
              "<table border=\"1\" class=\"dataframe\">\n",
              "  <thead>\n",
              "    <tr style=\"text-align: right;\">\n",
              "      <th></th>\n",
              "      <th>count</th>\n",
              "    </tr>\n",
              "    <tr>\n",
              "      <th>Grade</th>\n",
              "      <th></th>\n",
              "    </tr>\n",
              "  </thead>\n",
              "  <tbody>\n",
              "    <tr>\n",
              "      <th>A</th>\n",
              "      <td>12</td>\n",
              "    </tr>\n",
              "    <tr>\n",
              "      <th>B</th>\n",
              "      <td>12</td>\n",
              "    </tr>\n",
              "    <tr>\n",
              "      <th>C</th>\n",
              "      <td>8</td>\n",
              "    </tr>\n",
              "    <tr>\n",
              "      <th>D</th>\n",
              "      <td>8</td>\n",
              "    </tr>\n",
              "  </tbody>\n",
              "</table>\n",
              "</div><br><label><b>dtype:</b> int64</label>"
            ]
          },
          "metadata": {},
          "execution_count": 27
        }
      ]
    },
    {
      "cell_type": "code",
      "source": [
        "print('Mean: ', st.mean(df2_40['Salary']))\n",
        "print('Median: ', st.median(df2_40['Salary']))\n",
        "print('Mode: ', st.mode(df2_40['Salary']))"
      ],
      "metadata": {
        "colab": {
          "base_uri": "https://localhost:8080/"
        },
        "id": "UQBJR7jPn0B2",
        "outputId": "4831b007-9e15-4f2d-d9c9-6594934eeb75"
      },
      "execution_count": 28,
      "outputs": [
        {
          "output_type": "stream",
          "name": "stdout",
          "text": [
            "Mean:  68743.975\n",
            "Median:  62509.0\n",
            "Mode:  42959\n"
          ]
        }
      ]
    },
    {
      "cell_type": "code",
      "source": [
        "## Sample of size 40(A-12, B-12, C-8, D-8)\n",
        "\n",
        "# Get the 'A' grade rows\n",
        "lower = random.randint(0, 18)\n",
        "upper = lower+12\n",
        "df_A1 = df_A.iloc[lower:upper, :]\n",
        "\n",
        "# Get the 'B' grade rows\n",
        "lower = random.randint(0, 18)\n",
        "upper = lower+12\n",
        "df_B1 = df_B.iloc[lower:upper, :]\n",
        "\n",
        "# Get the 'C' grade rows\n",
        "lower = random.randint(0, 12)\n",
        "upper = lower+8\n",
        "df_C1 = df_C.iloc[lower:upper, :]\n",
        "\n",
        "# Get the 'D' grade rows\n",
        "lower = random.randint(0, 12)\n",
        "upper = lower+8\n",
        "df_D1 = df_D.iloc[lower:upper, :]\n",
        "\n",
        "# Concating all the dframes\n",
        "frames = [df_A1, df_B1, df_C1, df_D1]\n",
        "df3_40 = pd.concat(frames)\n",
        "\n",
        "df3_40['Grade'].value_counts()"
      ],
      "metadata": {
        "colab": {
          "base_uri": "https://localhost:8080/",
          "height": 241
        },
        "id": "5dXpz-Atjj7_",
        "outputId": "2528373a-e504-4359-c824-dabe3dc97387"
      },
      "execution_count": 29,
      "outputs": [
        {
          "output_type": "execute_result",
          "data": {
            "text/plain": [
              "Grade\n",
              "A    12\n",
              "B    12\n",
              "C     8\n",
              "D     8\n",
              "Name: count, dtype: int64"
            ],
            "text/html": [
              "<div>\n",
              "<style scoped>\n",
              "    .dataframe tbody tr th:only-of-type {\n",
              "        vertical-align: middle;\n",
              "    }\n",
              "\n",
              "    .dataframe tbody tr th {\n",
              "        vertical-align: top;\n",
              "    }\n",
              "\n",
              "    .dataframe thead th {\n",
              "        text-align: right;\n",
              "    }\n",
              "</style>\n",
              "<table border=\"1\" class=\"dataframe\">\n",
              "  <thead>\n",
              "    <tr style=\"text-align: right;\">\n",
              "      <th></th>\n",
              "      <th>count</th>\n",
              "    </tr>\n",
              "    <tr>\n",
              "      <th>Grade</th>\n",
              "      <th></th>\n",
              "    </tr>\n",
              "  </thead>\n",
              "  <tbody>\n",
              "    <tr>\n",
              "      <th>A</th>\n",
              "      <td>12</td>\n",
              "    </tr>\n",
              "    <tr>\n",
              "      <th>B</th>\n",
              "      <td>12</td>\n",
              "    </tr>\n",
              "    <tr>\n",
              "      <th>C</th>\n",
              "      <td>8</td>\n",
              "    </tr>\n",
              "    <tr>\n",
              "      <th>D</th>\n",
              "      <td>8</td>\n",
              "    </tr>\n",
              "  </tbody>\n",
              "</table>\n",
              "</div><br><label><b>dtype:</b> int64</label>"
            ]
          },
          "metadata": {},
          "execution_count": 29
        }
      ]
    },
    {
      "cell_type": "code",
      "source": [
        "print('Mean: ', st.mean(df3_40['Salary']))\n",
        "print('Median: ', st.median(df3_40['Salary']))\n",
        "print('Mode: ', st.mode(df3_40['Salary']))"
      ],
      "metadata": {
        "colab": {
          "base_uri": "https://localhost:8080/"
        },
        "id": "o9YaxYgun051",
        "outputId": "35e63c86-2f67-45e8-9969-d18571b51ac2"
      },
      "execution_count": 30,
      "outputs": [
        {
          "output_type": "stream",
          "name": "stdout",
          "text": [
            "Mean:  70970.55\n",
            "Median:  76588.5\n",
            "Mode:  77585\n"
          ]
        }
      ]
    },
    {
      "cell_type": "markdown",
      "source": [
        "#### (c) Generate Samples of Size 30 (1 time) and 40 (1 times) with proportional allocation without replacement.\n"
      ],
      "metadata": {
        "id": "M7wNCpRol038"
      }
    },
    {
      "cell_type": "code",
      "source": [
        "# 30 (0-29) ; No of rows in df_A\n",
        "# 30 (0-29) ; No of rows in df_B\n",
        "# 20 (0-19) ; No of rows in df_C\n",
        "# 20 (0-19) ; No of rows in df_D"
      ],
      "metadata": {
        "id": "NoCIJ_VgobCR"
      },
      "execution_count": 31,
      "outputs": []
    },
    {
      "cell_type": "code",
      "source": [
        "## Sample of size 30(A-9, B-9, C-6, D-6) without replacement\n",
        "## Sample of size 40(A-12, B-12, C-8, D-8) without replacement\n",
        "\n",
        "## For 30 rows dataframe we can have choices of A, B, C, and D as follows and this doesn't create difficulties for 40 rows dataframe:\n",
        "    # A: (Min Lower)0-18(Max Upper)\n",
        "    # B: (Min Lower)0-18(Max Upper)\n",
        "    # C: (Min Lower)0-12(Max Upper)\n",
        "    # D: (Min Lower)0-12(Max Upper)\n",
        "\n",
        "\n",
        "# Get the 'A' grade rows\n",
        "lower30 = random.randint(0, 9)\n",
        "upper30 = lower30+9\n",
        "df30_A1 = df_A.iloc[lower30:upper30, :]\n",
        "df40_A1 = df_A.iloc[upper30:upper30+12, :]\n",
        "\n",
        "# Get the 'B' grade rows\n",
        "lower30 = random.randint(0, 9)\n",
        "upper30 = lower30+9\n",
        "df30_B1 = df_B.iloc[lower30:upper30, :]\n",
        "df40_B1 = df_B.iloc[upper30:upper30+12, :]\n",
        "\n",
        "# Get the 'C' grade rows\n",
        "lower30 = random.randint(0, 6)\n",
        "upper30 = lower30+6\n",
        "df30_C1 = df_C.iloc[lower30:upper30, :]\n",
        "df40_C1 = df_C.iloc[upper30:upper30+8, :]\n",
        "\n",
        "# Get the 'D' grade rows\n",
        "lower30 = random.randint(0, 6)\n",
        "upper30 = lower30+6\n",
        "df30_D1 = df_D.iloc[lower30:upper30, :]\n",
        "df40_D1 = df_D.iloc[upper30:upper30+8, :]\n",
        "\n",
        "# Concating all the dframes\n",
        "frames30 = [df30_A1, df30_B1, df30_C1, df30_D1]\n",
        "frames40 = [df40_A1, df40_B1, df40_C1, df40_D1]\n",
        "df__30 = pd.concat(frames30)\n",
        "df__40 = pd.concat(frames40)\n",
        "\n",
        "print('For 30 samples df: ', df__30['Grade'].value_counts())\n",
        "print('\\n')\n",
        "print('For 40 samples df: ',df__40['Grade'].value_counts())"
      ],
      "metadata": {
        "colab": {
          "base_uri": "https://localhost:8080/"
        },
        "id": "6roBrcenl8RU",
        "outputId": "eb8c3c44-84c0-430e-ab4e-d949629964fc"
      },
      "execution_count": 32,
      "outputs": [
        {
          "output_type": "stream",
          "name": "stdout",
          "text": [
            "For 30 samples df:  Grade\n",
            "A    9\n",
            "B    9\n",
            "C    6\n",
            "D    6\n",
            "Name: count, dtype: int64\n",
            "\n",
            "\n",
            "For 40 samples df:  Grade\n",
            "A    12\n",
            "B    12\n",
            "C     8\n",
            "D     8\n",
            "Name: count, dtype: int64\n"
          ]
        }
      ]
    },
    {
      "cell_type": "code",
      "source": [
        "print('For 30 sample dataset \\n')\n",
        "print('Mean: ', st.mean(df__30['Salary']))\n",
        "print('Median: ', st.median(df__30['Salary']))\n",
        "print('Mode: ', st.mode(df__30['Salary']))"
      ],
      "metadata": {
        "colab": {
          "base_uri": "https://localhost:8080/"
        },
        "id": "LMtk9f49xUGT",
        "outputId": "fcd94993-59f4-4853-c3a7-4c7387adf679"
      },
      "execution_count": 33,
      "outputs": [
        {
          "output_type": "stream",
          "name": "stdout",
          "text": [
            "For 30 sample dataset \n",
            "\n",
            "Mean:  69481.06666666667\n",
            "Median:  59633.5\n",
            "Mode:  40182\n"
          ]
        }
      ]
    },
    {
      "cell_type": "code",
      "source": [
        "print('For 40 sample dataset \\n')\n",
        "print('Mean: ', st.mean(df__40['Salary']))\n",
        "print('Median: ', st.median(df__40['Salary']))\n",
        "print('Mode: ', st.mode(df__40['Salary']))"
      ],
      "metadata": {
        "colab": {
          "base_uri": "https://localhost:8080/"
        },
        "id": "oWnGQpxHx1Xv",
        "outputId": "1ad0cc74-eda9-4531-be26-05c6facddd5f"
      },
      "execution_count": 34,
      "outputs": [
        {
          "output_type": "stream",
          "name": "stdout",
          "text": [
            "For 40 sample dataset \n",
            "\n",
            "Mean:  68026\n",
            "Median:  69779.5\n",
            "Mode:  33387\n"
          ]
        }
      ]
    }
  ]
}