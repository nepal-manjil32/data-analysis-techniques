{
  "nbformat": 4,
  "nbformat_minor": 0,
  "metadata": {
    "colab": {
      "provenance": [],
      "collapsed_sections": [
        "x6IWEo_-Fcz7",
        "F93MJgNwFjcA",
        "dRQWFBkJF9i8",
        "LPcplds6Fsrk",
        "Pme-IJUeJFB5",
        "M7wNCpRol038"
      ]
    },
    "kernelspec": {
      "name": "python3",
      "display_name": "Python 3"
    },
    "language_info": {
      "name": "python"
    }
  },
  "cells": [
    {
      "cell_type": "markdown",
      "source": [
        "#### Importing Necessary Libraries\n",
        "<font color='orange'>AP22110011500</font>"
      ],
      "metadata": {
        "id": "x6IWEo_-Fcz7"
      }
    },
    {
      "cell_type": "code",
      "execution_count": null,
      "metadata": {
        "id": "wq9rsCOLFVnI"
      },
      "outputs": [],
      "source": [
        "import numpy as np\n",
        "import pandas as pd\n",
        "import random\n",
        "import statistics as st"
      ]
    },
    {
      "cell_type": "markdown",
      "source": [
        "#### Importing Dataset\n",
        "<font color='orange'>AP22110011500</font>"
      ],
      "metadata": {
        "id": "F93MJgNwFjcA"
      }
    },
    {
      "cell_type": "code",
      "source": [
        "df = pd.read_csv('employee_dataset.csv')"
      ],
      "metadata": {
        "id": "eedxyKnYFi23"
      },
      "execution_count": null,
      "outputs": []
    },
    {
      "cell_type": "markdown",
      "source": [
        "#### Data Analysis\n",
        "<font color='orange'>AP22110011500</font>"
      ],
      "metadata": {
        "id": "dRQWFBkJF9i8"
      }
    },
    {
      "cell_type": "code",
      "source": [
        "df.head()"
      ],
      "metadata": {
        "colab": {
          "base_uri": "https://localhost:8080/"
        },
        "id": "ij2swu_EF5Wd",
        "outputId": "4b0b737d-995d-4d30-b8da-b3b56b744eaa"
      },
      "execution_count": null,
      "outputs": [
        {
          "output_type": "execute_result",
          "data": {
            "text/plain": [
              "  Employee_ID Grade  Salary\n",
              "0        E001     B  107255\n",
              "1        E002     B   82778\n",
              "2        E003     B   98467\n",
              "3        E004     D   45148\n",
              "4        E005     C  115571"
            ],
            "text/html": [
              "\n",
              "  <div id=\"df-74e4b817-8b28-49e9-9d74-e8fbcce0341d\" class=\"colab-df-container\">\n",
              "    <div>\n",
              "<style scoped>\n",
              "    .dataframe tbody tr th:only-of-type {\n",
              "        vertical-align: middle;\n",
              "    }\n",
              "\n",
              "    .dataframe tbody tr th {\n",
              "        vertical-align: top;\n",
              "    }\n",
              "\n",
              "    .dataframe thead th {\n",
              "        text-align: right;\n",
              "    }\n",
              "</style>\n",
              "<table border=\"1\" class=\"dataframe\">\n",
              "  <thead>\n",
              "    <tr style=\"text-align: right;\">\n",
              "      <th></th>\n",
              "      <th>Employee_ID</th>\n",
              "      <th>Grade</th>\n",
              "      <th>Salary</th>\n",
              "    </tr>\n",
              "  </thead>\n",
              "  <tbody>\n",
              "    <tr>\n",
              "      <th>0</th>\n",
              "      <td>E001</td>\n",
              "      <td>B</td>\n",
              "      <td>107255</td>\n",
              "    </tr>\n",
              "    <tr>\n",
              "      <th>1</th>\n",
              "      <td>E002</td>\n",
              "      <td>B</td>\n",
              "      <td>82778</td>\n",
              "    </tr>\n",
              "    <tr>\n",
              "      <th>2</th>\n",
              "      <td>E003</td>\n",
              "      <td>B</td>\n",
              "      <td>98467</td>\n",
              "    </tr>\n",
              "    <tr>\n",
              "      <th>3</th>\n",
              "      <td>E004</td>\n",
              "      <td>D</td>\n",
              "      <td>45148</td>\n",
              "    </tr>\n",
              "    <tr>\n",
              "      <th>4</th>\n",
              "      <td>E005</td>\n",
              "      <td>C</td>\n",
              "      <td>115571</td>\n",
              "    </tr>\n",
              "  </tbody>\n",
              "</table>\n",
              "</div>\n",
              "    <div class=\"colab-df-buttons\">\n",
              "\n",
              "  <div class=\"colab-df-container\">\n",
              "    <button class=\"colab-df-convert\" onclick=\"convertToInteractive('df-74e4b817-8b28-49e9-9d74-e8fbcce0341d')\"\n",
              "            title=\"Convert this dataframe to an interactive table.\"\n",
              "            style=\"display:none;\">\n",
              "\n",
              "  <svg xmlns=\"http://www.w3.org/2000/svg\" height=\"24px\" viewBox=\"0 -960 960 960\">\n",
              "    <path d=\"M120-120v-720h720v720H120Zm60-500h600v-160H180v160Zm220 220h160v-160H400v160Zm0 220h160v-160H400v160ZM180-400h160v-160H180v160Zm440 0h160v-160H620v160ZM180-180h160v-160H180v160Zm440 0h160v-160H620v160Z\"/>\n",
              "  </svg>\n",
              "    </button>\n",
              "\n",
              "  <style>\n",
              "    .colab-df-container {\n",
              "      display:flex;\n",
              "      gap: 12px;\n",
              "    }\n",
              "\n",
              "    .colab-df-convert {\n",
              "      background-color: #E8F0FE;\n",
              "      border: none;\n",
              "      border-radius: 50%;\n",
              "      cursor: pointer;\n",
              "      display: none;\n",
              "      fill: #1967D2;\n",
              "      height: 32px;\n",
              "      padding: 0 0 0 0;\n",
              "      width: 32px;\n",
              "    }\n",
              "\n",
              "    .colab-df-convert:hover {\n",
              "      background-color: #E2EBFA;\n",
              "      box-shadow: 0px 1px 2px rgba(60, 64, 67, 0.3), 0px 1px 3px 1px rgba(60, 64, 67, 0.15);\n",
              "      fill: #174EA6;\n",
              "    }\n",
              "\n",
              "    .colab-df-buttons div {\n",
              "      margin-bottom: 4px;\n",
              "    }\n",
              "\n",
              "    [theme=dark] .colab-df-convert {\n",
              "      background-color: #3B4455;\n",
              "      fill: #D2E3FC;\n",
              "    }\n",
              "\n",
              "    [theme=dark] .colab-df-convert:hover {\n",
              "      background-color: #434B5C;\n",
              "      box-shadow: 0px 1px 3px 1px rgba(0, 0, 0, 0.15);\n",
              "      filter: drop-shadow(0px 1px 2px rgba(0, 0, 0, 0.3));\n",
              "      fill: #FFFFFF;\n",
              "    }\n",
              "  </style>\n",
              "\n",
              "    <script>\n",
              "      const buttonEl =\n",
              "        document.querySelector('#df-74e4b817-8b28-49e9-9d74-e8fbcce0341d button.colab-df-convert');\n",
              "      buttonEl.style.display =\n",
              "        google.colab.kernel.accessAllowed ? 'block' : 'none';\n",
              "\n",
              "      async function convertToInteractive(key) {\n",
              "        const element = document.querySelector('#df-74e4b817-8b28-49e9-9d74-e8fbcce0341d');\n",
              "        const dataTable =\n",
              "          await google.colab.kernel.invokeFunction('convertToInteractive',\n",
              "                                                    [key], {});\n",
              "        if (!dataTable) return;\n",
              "\n",
              "        const docLinkHtml = 'Like what you see? Visit the ' +\n",
              "          '<a target=\"_blank\" href=https://colab.research.google.com/notebooks/data_table.ipynb>data table notebook</a>'\n",
              "          + ' to learn more about interactive tables.';\n",
              "        element.innerHTML = '';\n",
              "        dataTable['output_type'] = 'display_data';\n",
              "        await google.colab.output.renderOutput(dataTable, element);\n",
              "        const docLink = document.createElement('div');\n",
              "        docLink.innerHTML = docLinkHtml;\n",
              "        element.appendChild(docLink);\n",
              "      }\n",
              "    </script>\n",
              "  </div>\n",
              "\n",
              "\n",
              "<div id=\"df-a00756e9-4cee-4398-a063-51b8ec48c10a\">\n",
              "  <button class=\"colab-df-quickchart\" onclick=\"quickchart('df-a00756e9-4cee-4398-a063-51b8ec48c10a')\"\n",
              "            title=\"Suggest charts\"\n",
              "            style=\"display:none;\">\n",
              "\n",
              "<svg xmlns=\"http://www.w3.org/2000/svg\" height=\"24px\"viewBox=\"0 0 24 24\"\n",
              "     width=\"24px\">\n",
              "    <g>\n",
              "        <path d=\"M19 3H5c-1.1 0-2 .9-2 2v14c0 1.1.9 2 2 2h14c1.1 0 2-.9 2-2V5c0-1.1-.9-2-2-2zM9 17H7v-7h2v7zm4 0h-2V7h2v10zm4 0h-2v-4h2v4z\"/>\n",
              "    </g>\n",
              "</svg>\n",
              "  </button>\n",
              "\n",
              "<style>\n",
              "  .colab-df-quickchart {\n",
              "      --bg-color: #E8F0FE;\n",
              "      --fill-color: #1967D2;\n",
              "      --hover-bg-color: #E2EBFA;\n",
              "      --hover-fill-color: #174EA6;\n",
              "      --disabled-fill-color: #AAA;\n",
              "      --disabled-bg-color: #DDD;\n",
              "  }\n",
              "\n",
              "  [theme=dark] .colab-df-quickchart {\n",
              "      --bg-color: #3B4455;\n",
              "      --fill-color: #D2E3FC;\n",
              "      --hover-bg-color: #434B5C;\n",
              "      --hover-fill-color: #FFFFFF;\n",
              "      --disabled-bg-color: #3B4455;\n",
              "      --disabled-fill-color: #666;\n",
              "  }\n",
              "\n",
              "  .colab-df-quickchart {\n",
              "    background-color: var(--bg-color);\n",
              "    border: none;\n",
              "    border-radius: 50%;\n",
              "    cursor: pointer;\n",
              "    display: none;\n",
              "    fill: var(--fill-color);\n",
              "    height: 32px;\n",
              "    padding: 0;\n",
              "    width: 32px;\n",
              "  }\n",
              "\n",
              "  .colab-df-quickchart:hover {\n",
              "    background-color: var(--hover-bg-color);\n",
              "    box-shadow: 0 1px 2px rgba(60, 64, 67, 0.3), 0 1px 3px 1px rgba(60, 64, 67, 0.15);\n",
              "    fill: var(--button-hover-fill-color);\n",
              "  }\n",
              "\n",
              "  .colab-df-quickchart-complete:disabled,\n",
              "  .colab-df-quickchart-complete:disabled:hover {\n",
              "    background-color: var(--disabled-bg-color);\n",
              "    fill: var(--disabled-fill-color);\n",
              "    box-shadow: none;\n",
              "  }\n",
              "\n",
              "  .colab-df-spinner {\n",
              "    border: 2px solid var(--fill-color);\n",
              "    border-color: transparent;\n",
              "    border-bottom-color: var(--fill-color);\n",
              "    animation:\n",
              "      spin 1s steps(1) infinite;\n",
              "  }\n",
              "\n",
              "  @keyframes spin {\n",
              "    0% {\n",
              "      border-color: transparent;\n",
              "      border-bottom-color: var(--fill-color);\n",
              "      border-left-color: var(--fill-color);\n",
              "    }\n",
              "    20% {\n",
              "      border-color: transparent;\n",
              "      border-left-color: var(--fill-color);\n",
              "      border-top-color: var(--fill-color);\n",
              "    }\n",
              "    30% {\n",
              "      border-color: transparent;\n",
              "      border-left-color: var(--fill-color);\n",
              "      border-top-color: var(--fill-color);\n",
              "      border-right-color: var(--fill-color);\n",
              "    }\n",
              "    40% {\n",
              "      border-color: transparent;\n",
              "      border-right-color: var(--fill-color);\n",
              "      border-top-color: var(--fill-color);\n",
              "    }\n",
              "    60% {\n",
              "      border-color: transparent;\n",
              "      border-right-color: var(--fill-color);\n",
              "    }\n",
              "    80% {\n",
              "      border-color: transparent;\n",
              "      border-right-color: var(--fill-color);\n",
              "      border-bottom-color: var(--fill-color);\n",
              "    }\n",
              "    90% {\n",
              "      border-color: transparent;\n",
              "      border-bottom-color: var(--fill-color);\n",
              "    }\n",
              "  }\n",
              "</style>\n",
              "\n",
              "  <script>\n",
              "    async function quickchart(key) {\n",
              "      const quickchartButtonEl =\n",
              "        document.querySelector('#' + key + ' button');\n",
              "      quickchartButtonEl.disabled = true;  // To prevent multiple clicks.\n",
              "      quickchartButtonEl.classList.add('colab-df-spinner');\n",
              "      try {\n",
              "        const charts = await google.colab.kernel.invokeFunction(\n",
              "            'suggestCharts', [key], {});\n",
              "      } catch (error) {\n",
              "        console.error('Error during call to suggestCharts:', error);\n",
              "      }\n",
              "      quickchartButtonEl.classList.remove('colab-df-spinner');\n",
              "      quickchartButtonEl.classList.add('colab-df-quickchart-complete');\n",
              "    }\n",
              "    (() => {\n",
              "      let quickchartButtonEl =\n",
              "        document.querySelector('#df-a00756e9-4cee-4398-a063-51b8ec48c10a button');\n",
              "      quickchartButtonEl.style.display =\n",
              "        google.colab.kernel.accessAllowed ? 'block' : 'none';\n",
              "    })();\n",
              "  </script>\n",
              "</div>\n",
              "\n",
              "    </div>\n",
              "  </div>\n"
            ],
            "application/vnd.google.colaboratory.intrinsic+json": {
              "type": "dataframe",
              "variable_name": "df",
              "summary": "{\n  \"name\": \"df\",\n  \"rows\": 100,\n  \"fields\": [\n    {\n      \"column\": \"Employee_ID\",\n      \"properties\": {\n        \"dtype\": \"string\",\n        \"num_unique_values\": 100,\n        \"samples\": [\n          \"E084\",\n          \"E054\",\n          \"E071\"\n        ],\n        \"semantic_type\": \"\",\n        \"description\": \"\"\n      }\n    },\n    {\n      \"column\": \"Grade\",\n      \"properties\": {\n        \"dtype\": \"category\",\n        \"num_unique_values\": 4,\n        \"samples\": [\n          \"D\",\n          \"A\",\n          \"B\"\n        ],\n        \"semantic_type\": \"\",\n        \"description\": \"\"\n      }\n    },\n    {\n      \"column\": \"Salary\",\n      \"properties\": {\n        \"dtype\": \"number\",\n        \"std\": 25656,\n        \"min\": 30242,\n        \"max\": 118645,\n        \"num_unique_values\": 100,\n        \"samples\": [\n          34466,\n          86853,\n          51805\n        ],\n        \"semantic_type\": \"\",\n        \"description\": \"\"\n      }\n    }\n  ]\n}"
            }
          },
          "metadata": {},
          "execution_count": 233
        }
      ]
    },
    {
      "cell_type": "code",
      "source": [
        "df['Grade'].value_counts()"
      ],
      "metadata": {
        "colab": {
          "base_uri": "https://localhost:8080/"
        },
        "id": "VT0XtLbIGAbE",
        "outputId": "8eb79e8a-236b-44f8-87f4-ccbb2ab9f715"
      },
      "execution_count": null,
      "outputs": [
        {
          "output_type": "execute_result",
          "data": {
            "text/plain": [
              "Grade\n",
              "B    30\n",
              "A    30\n",
              "D    20\n",
              "C    20\n",
              "Name: count, dtype: int64"
            ],
            "text/html": [
              "<div>\n",
              "<style scoped>\n",
              "    .dataframe tbody tr th:only-of-type {\n",
              "        vertical-align: middle;\n",
              "    }\n",
              "\n",
              "    .dataframe tbody tr th {\n",
              "        vertical-align: top;\n",
              "    }\n",
              "\n",
              "    .dataframe thead th {\n",
              "        text-align: right;\n",
              "    }\n",
              "</style>\n",
              "<table border=\"1\" class=\"dataframe\">\n",
              "  <thead>\n",
              "    <tr style=\"text-align: right;\">\n",
              "      <th></th>\n",
              "      <th>count</th>\n",
              "    </tr>\n",
              "    <tr>\n",
              "      <th>Grade</th>\n",
              "      <th></th>\n",
              "    </tr>\n",
              "  </thead>\n",
              "  <tbody>\n",
              "    <tr>\n",
              "      <th>B</th>\n",
              "      <td>30</td>\n",
              "    </tr>\n",
              "    <tr>\n",
              "      <th>A</th>\n",
              "      <td>30</td>\n",
              "    </tr>\n",
              "    <tr>\n",
              "      <th>D</th>\n",
              "      <td>20</td>\n",
              "    </tr>\n",
              "    <tr>\n",
              "      <th>C</th>\n",
              "      <td>20</td>\n",
              "    </tr>\n",
              "  </tbody>\n",
              "</table>\n",
              "</div><br><label><b>dtype:</b> int64</label>"
            ]
          },
          "metadata": {},
          "execution_count": 234
        }
      ]
    },
    {
      "cell_type": "markdown",
      "source": [
        "#### (a) Generate Samples of Size 30 (2 times) and 40 (3 times) randomly\n",
        "<font color='orange'>AP22110011500</font>"
      ],
      "metadata": {
        "id": "LPcplds6Fsrk"
      }
    },
    {
      "cell_type": "code",
      "source": [
        "# Samples of size 30\n",
        "lower1 = random.randint(0,70)\n",
        "upper1 = lower1+30\n",
        "df1 = df.iloc[lower1:upper1, :]\n",
        "\n",
        "print(df1['Grade'].value_counts())\n",
        "print(df1['Grade'].count())"
      ],
      "metadata": {
        "colab": {
          "base_uri": "https://localhost:8080/"
        },
        "id": "qcRQN9qeFt2H",
        "outputId": "42142213-580e-4af1-b9e9-69f2260851c4"
      },
      "execution_count": null,
      "outputs": [
        {
          "output_type": "stream",
          "name": "stdout",
          "text": [
            "Grade\n",
            "B    10\n",
            "D     8\n",
            "C     6\n",
            "A     6\n",
            "Name: count, dtype: int64\n",
            "30\n"
          ]
        }
      ]
    },
    {
      "cell_type": "code",
      "source": [
        "print(st.mean(df1['Salary']))\n",
        "print(st.median(df1['Salary']))\n",
        "print(st.mode(df1['Salary']))"
      ],
      "metadata": {
        "colab": {
          "base_uri": "https://localhost:8080/"
        },
        "id": "w2HfgR9vmbZd",
        "outputId": "37c1151f-a41c-4063-8de6-bdd07e28ef8b"
      },
      "execution_count": null,
      "outputs": [
        {
          "output_type": "stream",
          "name": "stdout",
          "text": [
            "71919.26666666666\n",
            "76627.0\n",
            "49753\n"
          ]
        }
      ]
    },
    {
      "cell_type": "code",
      "source": [
        "# Samples of size 30\n",
        "lower2 = random.randint(0,70)\n",
        "upper2 = lower2+30\n",
        "df2 = df.iloc[lower2:upper2, :]\n",
        "\n",
        "print(df2['Grade'].value_counts())\n",
        "print(df2['Grade'].count())"
      ],
      "metadata": {
        "colab": {
          "base_uri": "https://localhost:8080/"
        },
        "id": "shgIIC4uGx3X",
        "outputId": "d87022c9-e8ab-4e8d-91ae-5c1322e48867"
      },
      "execution_count": null,
      "outputs": [
        {
          "output_type": "stream",
          "name": "stdout",
          "text": [
            "Grade\n",
            "A    12\n",
            "B     8\n",
            "C     6\n",
            "D     4\n",
            "Name: count, dtype: int64\n",
            "30\n"
          ]
        }
      ]
    },
    {
      "cell_type": "code",
      "source": [
        "print(st.mean(df2['Salary']))\n",
        "print(st.median(df2['Salary']))\n",
        "print(st.mode(df2['Salary']))"
      ],
      "metadata": {
        "colab": {
          "base_uri": "https://localhost:8080/"
        },
        "id": "YiuajT6tm57W",
        "outputId": "695634e0-5012-40c1-f897-46d7221c2e12"
      },
      "execution_count": null,
      "outputs": [
        {
          "output_type": "stream",
          "name": "stdout",
          "text": [
            "80169.13333333333\n",
            "81221.5\n",
            "115571\n"
          ]
        }
      ]
    },
    {
      "cell_type": "code",
      "source": [
        "# Samples of size 40\n",
        "lower3 = random.randint(0,60)\n",
        "upper3 = lower3+40\n",
        "df3 = df.iloc[lower3:upper3, :]\n",
        "\n",
        "print(df3['Grade'].value_counts())\n",
        "print(df3['Grade'].count())"
      ],
      "metadata": {
        "colab": {
          "base_uri": "https://localhost:8080/"
        },
        "id": "gz4F_ZAEICo6",
        "outputId": "7e60875b-143d-4226-968e-78b32c39e680"
      },
      "execution_count": null,
      "outputs": [
        {
          "output_type": "stream",
          "name": "stdout",
          "text": [
            "Grade\n",
            "A    17\n",
            "B     9\n",
            "C     7\n",
            "D     7\n",
            "Name: count, dtype: int64\n",
            "40\n"
          ]
        }
      ]
    },
    {
      "cell_type": "code",
      "source": [
        "print(st.mean(df3['Salary']))\n",
        "print(st.median(df3['Salary']))\n",
        "print(st.mode(df3['Salary']))"
      ],
      "metadata": {
        "colab": {
          "base_uri": "https://localhost:8080/"
        },
        "id": "4i2QSJcGm-al",
        "outputId": "c99f98fe-5fbd-4c99-e32f-491c09aa67fb"
      },
      "execution_count": null,
      "outputs": [
        {
          "output_type": "stream",
          "name": "stdout",
          "text": [
            "75945.05\n",
            "73442.5\n",
            "107563\n"
          ]
        }
      ]
    },
    {
      "cell_type": "code",
      "source": [
        "# Samples of size 40\n",
        "lower4 = random.randint(0,60)\n",
        "upper4 = lower4+40\n",
        "df4 = df.iloc[lower4:upper4, :]\n",
        "\n",
        "print(df4['Grade'].value_counts())\n",
        "print(df4['Grade'].count())"
      ],
      "metadata": {
        "colab": {
          "base_uri": "https://localhost:8080/"
        },
        "id": "y8mRCzp8IyZs",
        "outputId": "ce6ec767-e2d1-4531-ee81-2c619ae3c1d3"
      },
      "execution_count": null,
      "outputs": [
        {
          "output_type": "stream",
          "name": "stdout",
          "text": [
            "Grade\n",
            "A    15\n",
            "B    11\n",
            "D     7\n",
            "C     7\n",
            "Name: count, dtype: int64\n",
            "40\n"
          ]
        }
      ]
    },
    {
      "cell_type": "code",
      "source": [
        "print(st.mean(df4['Salary']))\n",
        "print(st.median(df4['Salary']))\n",
        "print(st.mode(df4['Salary']))"
      ],
      "metadata": {
        "colab": {
          "base_uri": "https://localhost:8080/"
        },
        "id": "g0fNec2MnDgq",
        "outputId": "e5a4b77f-5f11-400c-afd1-b45908bdb1e7"
      },
      "execution_count": null,
      "outputs": [
        {
          "output_type": "stream",
          "name": "stdout",
          "text": [
            "73300\n",
            "68794.5\n",
            "96858\n"
          ]
        }
      ]
    },
    {
      "cell_type": "code",
      "source": [
        "# Samples of size 40\n",
        "lower5 = random.randint(0,60)\n",
        "upper5 = lower5+40\n",
        "df5 = df.iloc[lower5:upper5, :]\n",
        "\n",
        "print(df5['Grade'].value_counts())\n",
        "print(df5['Grade'].count())\n",
        "# df5.to_csv('40_balanced_dataset.csv', index=False)"
      ],
      "metadata": {
        "colab": {
          "base_uri": "https://localhost:8080/"
        },
        "id": "UVQkBwmPIy3X",
        "outputId": "f91b7962-8e9a-491b-99fa-93b4a473f7a5"
      },
      "execution_count": null,
      "outputs": [
        {
          "output_type": "stream",
          "name": "stdout",
          "text": [
            "Grade\n",
            "B    13\n",
            "A    12\n",
            "D     8\n",
            "C     7\n",
            "Name: count, dtype: int64\n",
            "40\n"
          ]
        }
      ]
    },
    {
      "cell_type": "code",
      "source": [
        "print(st.mean(df5['Salary']))\n",
        "print(st.median(df5['Salary']))\n",
        "print(st.mode(df5['Salary']))"
      ],
      "metadata": {
        "colab": {
          "base_uri": "https://localhost:8080/"
        },
        "id": "7MZzb_vPnJC1",
        "outputId": "4b9a0ea2-e1db-4d27-c90f-7c65f8e41a2a"
      },
      "execution_count": null,
      "outputs": [
        {
          "output_type": "stream",
          "name": "stdout",
          "text": [
            "65605.1\n",
            "63580.0\n",
            "58767\n"
          ]
        }
      ]
    },
    {
      "cell_type": "markdown",
      "source": [
        "#### (b) Generate Samples of Size 30 (2 times) and 40 (3 times) with proportional allocation with replacement\n",
        "<font color='orange'>AP22110011500</font>"
      ],
      "metadata": {
        "id": "Pme-IJUeJFB5"
      }
    },
    {
      "cell_type": "code",
      "source": [
        "## My approach to this problem\n",
        "  # Seperate rows of each class and store them in a new dataframe\n",
        "  # Create a dataframe by concating the desired proportion of rows from dataframe of each class"
      ],
      "metadata": {
        "id": "cNE7ebr-I_AF"
      },
      "execution_count": null,
      "outputs": []
    },
    {
      "cell_type": "code",
      "source": [
        "df_A = df[df['Grade'] == 'A']\n",
        "df_B = df[df['Grade'] == 'B']\n",
        "df_C = df[df['Grade'] == 'C']\n",
        "df_D = df[df['Grade'] == 'D']"
      ],
      "metadata": {
        "id": "6sVy4YnSM9hz"
      },
      "execution_count": null,
      "outputs": []
    },
    {
      "cell_type": "code",
      "source": [
        "print(df_A['Grade'].value_counts())\n",
        "print(df_B['Grade'].value_counts())\n",
        "print(df_C['Grade'].value_counts())\n",
        "print(df_D['Grade'].value_counts())"
      ],
      "metadata": {
        "colab": {
          "base_uri": "https://localhost:8080/"
        },
        "id": "BPBIf5V9NK6e",
        "outputId": "df54dd0a-057e-4fb0-c7cd-907e03ac90e4"
      },
      "execution_count": null,
      "outputs": [
        {
          "output_type": "stream",
          "name": "stdout",
          "text": [
            "Grade\n",
            "A    30\n",
            "Name: count, dtype: int64\n",
            "Grade\n",
            "B    30\n",
            "Name: count, dtype: int64\n",
            "Grade\n",
            "C    20\n",
            "Name: count, dtype: int64\n",
            "Grade\n",
            "D    20\n",
            "Name: count, dtype: int64\n"
          ]
        }
      ]
    },
    {
      "cell_type": "code",
      "source": [
        "# A = 30 ; No of rows in df_A\n",
        "# B = 30 ; No of rows in df_B\n",
        "# C = 20 ; No of rows in df_C\n",
        "# D = 20 ; No of rows in df_D"
      ],
      "metadata": {
        "id": "LBLTWpepNM8_"
      },
      "execution_count": null,
      "outputs": []
    },
    {
      "cell_type": "code",
      "source": [
        "## Sample of size 30(A-9, B-9, C-6, D-6)\n",
        "\n",
        "# Get the of 'A' grade rows\n",
        "lower = random.randint(0, 21)\n",
        "upper = lower+9\n",
        "df_A1 = df_A.iloc[lower:upper, :]\n",
        "\n",
        "# Get the of 'B' grade rows\n",
        "lower = random.randint(0, 21)\n",
        "upper = lower+9\n",
        "df_B1 = df_B.iloc[lower:upper, :]\n",
        "\n",
        "# Get the of 'C' grade rows\n",
        "lower = random.randint(0, 14)\n",
        "upper = lower+6\n",
        "df_C1 = df_C.iloc[lower:upper, :]\n",
        "\n",
        "# Get the of 'D' grade rows\n",
        "lower = random.randint(0, 14)\n",
        "upper = lower+6\n",
        "df_D1 = df_D.iloc[lower:upper, :]\n",
        "\n",
        "# Concating all the dframes\n",
        "frames = [df_A1, df_B1, df_C1, df_D1]\n",
        "df1_30 = pd.concat(frames)\n",
        "\n",
        "df1_30['Grade'].value_counts()"
      ],
      "metadata": {
        "colab": {
          "base_uri": "https://localhost:8080/"
        },
        "id": "rjaSXkjne8kq",
        "outputId": "dacaefc2-348a-4c42-e33f-083562c361f2"
      },
      "execution_count": null,
      "outputs": [
        {
          "output_type": "execute_result",
          "data": {
            "text/plain": [
              "Grade\n",
              "A    9\n",
              "B    9\n",
              "C    6\n",
              "D    6\n",
              "Name: count, dtype: int64"
            ],
            "text/html": [
              "<div>\n",
              "<style scoped>\n",
              "    .dataframe tbody tr th:only-of-type {\n",
              "        vertical-align: middle;\n",
              "    }\n",
              "\n",
              "    .dataframe tbody tr th {\n",
              "        vertical-align: top;\n",
              "    }\n",
              "\n",
              "    .dataframe thead th {\n",
              "        text-align: right;\n",
              "    }\n",
              "</style>\n",
              "<table border=\"1\" class=\"dataframe\">\n",
              "  <thead>\n",
              "    <tr style=\"text-align: right;\">\n",
              "      <th></th>\n",
              "      <th>count</th>\n",
              "    </tr>\n",
              "    <tr>\n",
              "      <th>Grade</th>\n",
              "      <th></th>\n",
              "    </tr>\n",
              "  </thead>\n",
              "  <tbody>\n",
              "    <tr>\n",
              "      <th>A</th>\n",
              "      <td>9</td>\n",
              "    </tr>\n",
              "    <tr>\n",
              "      <th>B</th>\n",
              "      <td>9</td>\n",
              "    </tr>\n",
              "    <tr>\n",
              "      <th>C</th>\n",
              "      <td>6</td>\n",
              "    </tr>\n",
              "    <tr>\n",
              "      <th>D</th>\n",
              "      <td>6</td>\n",
              "    </tr>\n",
              "  </tbody>\n",
              "</table>\n",
              "</div><br><label><b>dtype:</b> int64</label>"
            ]
          },
          "metadata": {},
          "execution_count": 249
        }
      ]
    },
    {
      "cell_type": "code",
      "source": [
        "print('Mean: ', st.mean(df1_30['Salary']))\n",
        "print('Median: ', st.median(df1_30['Salary']))\n",
        "print('Mode: ', st.mode(df1_30['Salary']))"
      ],
      "metadata": {
        "colab": {
          "base_uri": "https://localhost:8080/"
        },
        "id": "d5iupdxFnfr0",
        "outputId": "b11c54b8-0d55-48e4-a1a3-e416ea8d9b4b"
      },
      "execution_count": null,
      "outputs": [
        {
          "output_type": "stream",
          "name": "stdout",
          "text": [
            "Mean:  63022.433333333334\n",
            "Median:  59306.5\n",
            "Mode:  59846\n"
          ]
        }
      ]
    },
    {
      "cell_type": "code",
      "source": [
        "## Sample of size 30(A-9, B-9, C-6, D-6)\n",
        "\n",
        "# Get the of 'A' grade rows\n",
        "lower = random.randint(0, 21)\n",
        "upper = lower+9\n",
        "df_A1 = df_A.iloc[lower:upper, :]\n",
        "\n",
        "# Get the of 'B' grade rows\n",
        "lower = random.randint(0, 21)\n",
        "upper = lower+9\n",
        "df_B1 = df_B.iloc[lower:upper, :]\n",
        "\n",
        "# Get the of 'C' grade rows\n",
        "lower = random.randint(0, 14)\n",
        "upper = lower+6\n",
        "df_C1 = df_C.iloc[lower:upper, :]\n",
        "\n",
        "# Get the of 'D' grade rows\n",
        "lower = random.randint(0, 14)\n",
        "upper = lower+6\n",
        "df_D1 = df_D.iloc[lower:upper, :]\n",
        "\n",
        "# Concating all the dframes\n",
        "frames = [df_A1, df_B1, df_C1, df_D1]\n",
        "df2_30 = pd.concat(frames)\n",
        "\n",
        "df2_30['Grade'].value_counts()"
      ],
      "metadata": {
        "colab": {
          "base_uri": "https://localhost:8080/"
        },
        "id": "UFFJ0CJFic-Z",
        "outputId": "12c65534-7cd2-4fe7-b95b-403aa03857d9"
      },
      "execution_count": null,
      "outputs": [
        {
          "output_type": "execute_result",
          "data": {
            "text/plain": [
              "Grade\n",
              "A    9\n",
              "B    9\n",
              "C    6\n",
              "D    6\n",
              "Name: count, dtype: int64"
            ],
            "text/html": [
              "<div>\n",
              "<style scoped>\n",
              "    .dataframe tbody tr th:only-of-type {\n",
              "        vertical-align: middle;\n",
              "    }\n",
              "\n",
              "    .dataframe tbody tr th {\n",
              "        vertical-align: top;\n",
              "    }\n",
              "\n",
              "    .dataframe thead th {\n",
              "        text-align: right;\n",
              "    }\n",
              "</style>\n",
              "<table border=\"1\" class=\"dataframe\">\n",
              "  <thead>\n",
              "    <tr style=\"text-align: right;\">\n",
              "      <th></th>\n",
              "      <th>count</th>\n",
              "    </tr>\n",
              "    <tr>\n",
              "      <th>Grade</th>\n",
              "      <th></th>\n",
              "    </tr>\n",
              "  </thead>\n",
              "  <tbody>\n",
              "    <tr>\n",
              "      <th>A</th>\n",
              "      <td>9</td>\n",
              "    </tr>\n",
              "    <tr>\n",
              "      <th>B</th>\n",
              "      <td>9</td>\n",
              "    </tr>\n",
              "    <tr>\n",
              "      <th>C</th>\n",
              "      <td>6</td>\n",
              "    </tr>\n",
              "    <tr>\n",
              "      <th>D</th>\n",
              "      <td>6</td>\n",
              "    </tr>\n",
              "  </tbody>\n",
              "</table>\n",
              "</div><br><label><b>dtype:</b> int64</label>"
            ]
          },
          "metadata": {},
          "execution_count": 251
        }
      ]
    },
    {
      "cell_type": "code",
      "source": [
        "print('Mean: ', st.mean(df2_30['Salary']))\n",
        "print('Median: ', st.median(df2_30['Salary']))\n",
        "print('Mode: ', st.mode(df2_30['Salary']))"
      ],
      "metadata": {
        "colab": {
          "base_uri": "https://localhost:8080/"
        },
        "id": "ml5UgfQrnmw5",
        "outputId": "54786adf-67e1-4ab5-9c5b-835a27aa8c87"
      },
      "execution_count": null,
      "outputs": [
        {
          "output_type": "stream",
          "name": "stdout",
          "text": [
            "Mean:  74700.13333333333\n",
            "Median:  69964.5\n",
            "Mode:  57746\n"
          ]
        }
      ]
    },
    {
      "cell_type": "code",
      "source": [
        "# A = 30 ; No of rows in df_A\n",
        "# B = 30 ; No of rows in df_B\n",
        "# C = 20 ; No of rows in df_C\n",
        "# D = 20 ; No of rows in df_D"
      ],
      "metadata": {
        "id": "fzJu-8GwjUu5"
      },
      "execution_count": null,
      "outputs": []
    },
    {
      "cell_type": "code",
      "source": [
        "## Sample of size 40(A-12, B-12, C-8, D-8)\n",
        "\n",
        "# Get the of 'A' grade rows\n",
        "lower = random.randint(0, 18)\n",
        "upper = lower+12\n",
        "df_A1 = df_A.iloc[lower:upper, :]\n",
        "\n",
        "# Get the of 'B' grade rows\n",
        "lower = random.randint(0, 18)\n",
        "upper = lower+12\n",
        "df_B1 = df_B.iloc[lower:upper, :]\n",
        "\n",
        "# Get the of 'C' grade rows\n",
        "lower = random.randint(0, 12)\n",
        "upper = lower+8\n",
        "df_C1 = df_C.iloc[lower:upper, :]\n",
        "\n",
        "# Get the of 'D' grade rows\n",
        "lower = random.randint(0, 12)\n",
        "upper = lower+8\n",
        "df_D1 = df_D.iloc[lower:upper, :]\n",
        "\n",
        "# Concating all the dframes\n",
        "frames = [df_A1, df_B1, df_C1, df_D1]\n",
        "df1_40 = pd.concat(frames)\n",
        "\n",
        "df1_40['Grade'].value_counts()"
      ],
      "metadata": {
        "colab": {
          "base_uri": "https://localhost:8080/"
        },
        "id": "-KMMyr9Bi8gb",
        "outputId": "9db7e03c-6b26-439e-fbb0-13e6d6e35d81"
      },
      "execution_count": null,
      "outputs": [
        {
          "output_type": "execute_result",
          "data": {
            "text/plain": [
              "Grade\n",
              "A    12\n",
              "B    12\n",
              "C     8\n",
              "D     8\n",
              "Name: count, dtype: int64"
            ],
            "text/html": [
              "<div>\n",
              "<style scoped>\n",
              "    .dataframe tbody tr th:only-of-type {\n",
              "        vertical-align: middle;\n",
              "    }\n",
              "\n",
              "    .dataframe tbody tr th {\n",
              "        vertical-align: top;\n",
              "    }\n",
              "\n",
              "    .dataframe thead th {\n",
              "        text-align: right;\n",
              "    }\n",
              "</style>\n",
              "<table border=\"1\" class=\"dataframe\">\n",
              "  <thead>\n",
              "    <tr style=\"text-align: right;\">\n",
              "      <th></th>\n",
              "      <th>count</th>\n",
              "    </tr>\n",
              "    <tr>\n",
              "      <th>Grade</th>\n",
              "      <th></th>\n",
              "    </tr>\n",
              "  </thead>\n",
              "  <tbody>\n",
              "    <tr>\n",
              "      <th>A</th>\n",
              "      <td>12</td>\n",
              "    </tr>\n",
              "    <tr>\n",
              "      <th>B</th>\n",
              "      <td>12</td>\n",
              "    </tr>\n",
              "    <tr>\n",
              "      <th>C</th>\n",
              "      <td>8</td>\n",
              "    </tr>\n",
              "    <tr>\n",
              "      <th>D</th>\n",
              "      <td>8</td>\n",
              "    </tr>\n",
              "  </tbody>\n",
              "</table>\n",
              "</div><br><label><b>dtype:</b> int64</label>"
            ]
          },
          "metadata": {},
          "execution_count": 254
        }
      ]
    },
    {
      "cell_type": "code",
      "source": [
        "print('Mean: ', st.mean(df1_40['Salary']))\n",
        "print('Median: ', st.median(df1_40['Salary']))\n",
        "print('Mode: ', st.mode(df1_40['Salary']))"
      ],
      "metadata": {
        "colab": {
          "base_uri": "https://localhost:8080/"
        },
        "id": "H3BSLiAJnr4B",
        "outputId": "93f224fa-2779-49ba-cf21-e5ea7f1c2b52"
      },
      "execution_count": null,
      "outputs": [
        {
          "output_type": "stream",
          "name": "stdout",
          "text": [
            "Mean:  76457.925\n",
            "Median:  79383.5\n",
            "Mode:  114465\n"
          ]
        }
      ]
    },
    {
      "cell_type": "code",
      "source": [
        "## Sample of size 40(A-12, B-12, C-8, D-8)\n",
        "\n",
        "# Get the of 'A' grade rows\n",
        "lower = random.randint(0, 18)\n",
        "upper = lower+12\n",
        "df_A1 = df_A.iloc[lower:upper, :]\n",
        "\n",
        "# Get the of 'B' grade rows\n",
        "lower = random.randint(0, 18)\n",
        "upper = lower+12\n",
        "df_B1 = df_B.iloc[lower:upper, :]\n",
        "\n",
        "# Get the of 'C' grade rows\n",
        "lower = random.randint(0, 12)\n",
        "upper = lower+8\n",
        "df_C1 = df_C.iloc[lower:upper, :]\n",
        "\n",
        "# Get the of 'D' grade rows\n",
        "lower = random.randint(0, 12)\n",
        "upper = lower+8\n",
        "df_D1 = df_D.iloc[lower:upper, :]\n",
        "\n",
        "# Concating all the dframes\n",
        "frames = [df_A1, df_B1, df_C1, df_D1]\n",
        "df2_40 = pd.concat(frames)\n",
        "\n",
        "df2_40['Grade'].value_counts()"
      ],
      "metadata": {
        "colab": {
          "base_uri": "https://localhost:8080/"
        },
        "id": "myGYM1ONiyvP",
        "outputId": "546d06a2-3085-4782-8e1e-bedf7e37169f"
      },
      "execution_count": null,
      "outputs": [
        {
          "output_type": "execute_result",
          "data": {
            "text/plain": [
              "Grade\n",
              "A    12\n",
              "B    12\n",
              "C     8\n",
              "D     8\n",
              "Name: count, dtype: int64"
            ],
            "text/html": [
              "<div>\n",
              "<style scoped>\n",
              "    .dataframe tbody tr th:only-of-type {\n",
              "        vertical-align: middle;\n",
              "    }\n",
              "\n",
              "    .dataframe tbody tr th {\n",
              "        vertical-align: top;\n",
              "    }\n",
              "\n",
              "    .dataframe thead th {\n",
              "        text-align: right;\n",
              "    }\n",
              "</style>\n",
              "<table border=\"1\" class=\"dataframe\">\n",
              "  <thead>\n",
              "    <tr style=\"text-align: right;\">\n",
              "      <th></th>\n",
              "      <th>count</th>\n",
              "    </tr>\n",
              "    <tr>\n",
              "      <th>Grade</th>\n",
              "      <th></th>\n",
              "    </tr>\n",
              "  </thead>\n",
              "  <tbody>\n",
              "    <tr>\n",
              "      <th>A</th>\n",
              "      <td>12</td>\n",
              "    </tr>\n",
              "    <tr>\n",
              "      <th>B</th>\n",
              "      <td>12</td>\n",
              "    </tr>\n",
              "    <tr>\n",
              "      <th>C</th>\n",
              "      <td>8</td>\n",
              "    </tr>\n",
              "    <tr>\n",
              "      <th>D</th>\n",
              "      <td>8</td>\n",
              "    </tr>\n",
              "  </tbody>\n",
              "</table>\n",
              "</div><br><label><b>dtype:</b> int64</label>"
            ]
          },
          "metadata": {},
          "execution_count": 256
        }
      ]
    },
    {
      "cell_type": "code",
      "source": [
        "print('Mean: ', st.mean(df2_40['Salary']))\n",
        "print('Median: ', st.median(df2_40['Salary']))\n",
        "print('Mode: ', st.mode(df2_40['Salary']))"
      ],
      "metadata": {
        "colab": {
          "base_uri": "https://localhost:8080/"
        },
        "id": "UQBJR7jPn0B2",
        "outputId": "b7871090-8415-4ec7-e991-7ab620d414ef"
      },
      "execution_count": null,
      "outputs": [
        {
          "output_type": "stream",
          "name": "stdout",
          "text": [
            "Mean:  66617.875\n",
            "Median:  62509.0\n",
            "Mode:  59224\n"
          ]
        }
      ]
    },
    {
      "cell_type": "code",
      "source": [
        "## Sample of size 40(A-12, B-12, C-8, D-8)\n",
        "\n",
        "# Get the of 'A' grade rows\n",
        "lower = random.randint(0, 18)\n",
        "upper = lower+12\n",
        "df_A1 = df_A.iloc[lower:upper, :]\n",
        "\n",
        "# Get the of 'B' grade rows\n",
        "lower = random.randint(0, 18)\n",
        "upper = lower+12\n",
        "df_B1 = df_B.iloc[lower:upper, :]\n",
        "\n",
        "# Get the of 'C' grade rows\n",
        "lower = random.randint(0, 12)\n",
        "upper = lower+8\n",
        "df_C1 = df_C.iloc[lower:upper, :]\n",
        "\n",
        "# Get the of 'D' grade rows\n",
        "lower = random.randint(0, 12)\n",
        "upper = lower+8\n",
        "df_D1 = df_D.iloc[lower:upper, :]\n",
        "\n",
        "# Concating all the dframes\n",
        "frames = [df_A1, df_B1, df_C1, df_D1]\n",
        "df3_40 = pd.concat(frames)\n",
        "\n",
        "df3_40['Grade'].value_counts()"
      ],
      "metadata": {
        "colab": {
          "base_uri": "https://localhost:8080/"
        },
        "id": "5dXpz-Atjj7_",
        "outputId": "05a3221d-e44d-4084-88a7-5f9168d7b85e"
      },
      "execution_count": null,
      "outputs": [
        {
          "output_type": "execute_result",
          "data": {
            "text/plain": [
              "Grade\n",
              "A    12\n",
              "B    12\n",
              "C     8\n",
              "D     8\n",
              "Name: count, dtype: int64"
            ],
            "text/html": [
              "<div>\n",
              "<style scoped>\n",
              "    .dataframe tbody tr th:only-of-type {\n",
              "        vertical-align: middle;\n",
              "    }\n",
              "\n",
              "    .dataframe tbody tr th {\n",
              "        vertical-align: top;\n",
              "    }\n",
              "\n",
              "    .dataframe thead th {\n",
              "        text-align: right;\n",
              "    }\n",
              "</style>\n",
              "<table border=\"1\" class=\"dataframe\">\n",
              "  <thead>\n",
              "    <tr style=\"text-align: right;\">\n",
              "      <th></th>\n",
              "      <th>count</th>\n",
              "    </tr>\n",
              "    <tr>\n",
              "      <th>Grade</th>\n",
              "      <th></th>\n",
              "    </tr>\n",
              "  </thead>\n",
              "  <tbody>\n",
              "    <tr>\n",
              "      <th>A</th>\n",
              "      <td>12</td>\n",
              "    </tr>\n",
              "    <tr>\n",
              "      <th>B</th>\n",
              "      <td>12</td>\n",
              "    </tr>\n",
              "    <tr>\n",
              "      <th>C</th>\n",
              "      <td>8</td>\n",
              "    </tr>\n",
              "    <tr>\n",
              "      <th>D</th>\n",
              "      <td>8</td>\n",
              "    </tr>\n",
              "  </tbody>\n",
              "</table>\n",
              "</div><br><label><b>dtype:</b> int64</label>"
            ]
          },
          "metadata": {},
          "execution_count": 258
        }
      ]
    },
    {
      "cell_type": "code",
      "source": [
        "print('Mean: ', st.mean(df3_40['Salary']))\n",
        "print('Median: ', st.median(df3_40['Salary']))\n",
        "print('Mode: ', st.mode(df3_40['Salary']))"
      ],
      "metadata": {
        "colab": {
          "base_uri": "https://localhost:8080/"
        },
        "id": "o9YaxYgun051",
        "outputId": "656c744d-fcec-4243-8c12-3406d6127037"
      },
      "execution_count": null,
      "outputs": [
        {
          "output_type": "stream",
          "name": "stdout",
          "text": [
            "Mean:  63411.225\n",
            "Median:  61443.0\n",
            "Mode:  59846\n"
          ]
        }
      ]
    },
    {
      "cell_type": "markdown",
      "source": [
        "#### (c) Generate Samples of Size 30 (1 time) and 40 (1 times) with proportional allocation without replacement.\n",
        "<font color='orange'>AP22110011500</font>"
      ],
      "metadata": {
        "id": "M7wNCpRol038"
      }
    },
    {
      "cell_type": "code",
      "source": [
        "df['Grade'].unique()"
      ],
      "metadata": {
        "colab": {
          "base_uri": "https://localhost:8080/"
        },
        "id": "QXomAhgnly-9",
        "outputId": "3d13abd3-80b8-4595-d6c9-2bcb1d18b161"
      },
      "execution_count": null,
      "outputs": [
        {
          "output_type": "execute_result",
          "data": {
            "text/plain": [
              "array(['B', 'D', 'C', 'A'], dtype=object)"
            ]
          },
          "metadata": {},
          "execution_count": 260
        }
      ]
    },
    {
      "cell_type": "code",
      "source": [
        "# A = 30 (0-29) ; No of rows in df_A\n",
        "# B = 30 (0-29) ; No of rows in df_B\n",
        "# C = 20 (0-19) ; No of rows in df_C\n",
        "# D = 20 (0-19) ; No of rows in df_D"
      ],
      "metadata": {
        "id": "NoCIJ_VgobCR"
      },
      "execution_count": null,
      "outputs": []
    },
    {
      "cell_type": "code",
      "source": [
        "## Sample of size 30(A-9, B-9, C-6, D-6) without replacement\n",
        "## Sample of size 40(A-12, B-12, C-8, D-8) without replacement\n",
        "## For 30 rows dataframe we can have choices of A, B, C, and D as follows and this doesn't create difficulties for 40 rows dataframe:\n",
        "    # A: (Min Lower)0-18(Max Upper)\n",
        "    # B: (Min Lower)0-18(Max Upper)\n",
        "    # C: (Min Lower)0-12(Max Upper)\n",
        "    # D: (Min Lower)0-12(Max Upper)\n",
        "\n",
        "\n",
        "# Get the of 'A' grade rows\n",
        "lower30 = random.randint(0, 9)\n",
        "upper30 = lower30+9\n",
        "df30_A1 = df_A.iloc[lower30:upper30, :]\n",
        "df40_A1 = df_A.iloc[upper30:upper30+12, :]\n",
        "\n",
        "# Get the of 'B' grade rows\n",
        "lower30 = random.randint(0, 9)\n",
        "upper30 = lower30+9\n",
        "df30_B1 = df_B.iloc[lower30:upper30, :]\n",
        "df40_B1 = df_B.iloc[upper30:upper30+12, :]\n",
        "\n",
        "# Get the of 'C' grade rows\n",
        "lower30 = random.randint(0, 6)\n",
        "upper30 = lower30+6\n",
        "df30_C1 = df_C.iloc[lower30:upper30, :]\n",
        "df40_C1 = df_C.iloc[upper30:upper30+8, :]\n",
        "\n",
        "# Get the of 'D' grade rows\n",
        "lower30 = random.randint(0, 6)\n",
        "upper30 = lower30+6\n",
        "df30_D1 = df_D.iloc[lower30:upper30, :]\n",
        "df40_D1 = df_D.iloc[upper30:upper30+8, :]\n",
        "\n",
        "# Concating all the dframes\n",
        "frames30 = [df30_A1, df30_B1, df30_C1, df30_D1]\n",
        "frames40 = [df40_A1, df40_B1, df40_C1, df40_D1]\n",
        "df__30 = pd.concat(frames)\n",
        "df__40 = pd.concat(frames)\n",
        "\n",
        "print(df__30['Grade'].value_counts())\n",
        "print(df__40['Grade'].value_counts())"
      ],
      "metadata": {
        "colab": {
          "base_uri": "https://localhost:8080/"
        },
        "id": "6roBrcenl8RU",
        "outputId": "6b0640bf-ac49-4e91-daf4-9e714d273190"
      },
      "execution_count": null,
      "outputs": [
        {
          "output_type": "stream",
          "name": "stdout",
          "text": [
            "Grade\n",
            "A    12\n",
            "B    12\n",
            "C     8\n",
            "D     8\n",
            "Name: count, dtype: int64\n",
            "Grade\n",
            "A    12\n",
            "B    12\n",
            "C     8\n",
            "D     8\n",
            "Name: count, dtype: int64\n"
          ]
        }
      ]
    },
    {
      "cell_type": "code",
      "source": [
        "print('For 30 sample dataset \\n')\n",
        "print('Mean: ', st.mean(df__30['Salary']))\n",
        "print('Median: ', st.median(df__30['Salary']))\n",
        "print('Mode: ', st.mode(df__30['Salary']))"
      ],
      "metadata": {
        "colab": {
          "base_uri": "https://localhost:8080/"
        },
        "id": "LMtk9f49xUGT",
        "outputId": "0c910627-2604-4f83-a35d-eab1c070512d"
      },
      "execution_count": null,
      "outputs": [
        {
          "output_type": "stream",
          "name": "stdout",
          "text": [
            "For 30 sample dataset \n",
            "\n",
            "Mean:  63411.225\n",
            "Median:  61443.0\n",
            "Mode:  59846\n"
          ]
        }
      ]
    },
    {
      "cell_type": "code",
      "source": [
        "print('For 40 sample dataset \\n')\n",
        "print('Mean: ', st.mean(df__40['Salary']))\n",
        "print('Median: ', st.median(df__40['Salary']))\n",
        "print('Mode: ', st.mode(df__40['Salary']))"
      ],
      "metadata": {
        "colab": {
          "base_uri": "https://localhost:8080/"
        },
        "id": "oWnGQpxHx1Xv",
        "outputId": "39d85aed-527d-46f7-c370-c9593d542c02"
      },
      "execution_count": null,
      "outputs": [
        {
          "output_type": "stream",
          "name": "stdout",
          "text": [
            "For 40 sample dataset \n",
            "\n",
            "Mean:  63411.225\n",
            "Median:  61443.0\n",
            "Mode:  59846\n"
          ]
        }
      ]
    },
    {
      "cell_type": "code",
      "source": [],
      "metadata": {
        "id": "5K37CJXSx8pG"
      },
      "execution_count": null,
      "outputs": []
    }
  ]
}